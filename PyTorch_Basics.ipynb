{
  "nbformat": 4,
  "nbformat_minor": 0,
  "metadata": {
    "colab": {
      "provenance": []
    },
    "kernelspec": {
      "name": "python3",
      "display_name": "Python 3"
    },
    "language_info": {
      "name": "python"
    }
  },
  "cells": [
    {
      "cell_type": "code",
      "execution_count": 1,
      "metadata": {
        "id": "OYvGmdbulY1N"
      },
      "outputs": [],
      "source": [
        "import torch"
      ]
    },
    {
      "cell_type": "code",
      "source": [
        "import numpy as np"
      ],
      "metadata": {
        "id": "bc-JrUNPlrd8"
      },
      "execution_count": 2,
      "outputs": []
    },
    {
      "cell_type": "code",
      "source": [
        "torch.__version__"
      ],
      "metadata": {
        "colab": {
          "base_uri": "https://localhost:8080/",
          "height": 36
        },
        "id": "CTe84-6-ltqW",
        "outputId": "f8ccdc82-d3fd-4507-e151-6da9b6c08c5c"
      },
      "execution_count": 3,
      "outputs": [
        {
          "output_type": "execute_result",
          "data": {
            "text/plain": [
              "'2.4.0+cu121'"
            ],
            "application/vnd.google.colaboratory.intrinsic+json": {
              "type": "string"
            }
          },
          "metadata": {},
          "execution_count": 3
        }
      ]
    },
    {
      "cell_type": "code",
      "source": [
        "arr=np.array([1,2,3,4,5])"
      ],
      "metadata": {
        "id": "Dn41tT4slx-l"
      },
      "execution_count": 4,
      "outputs": []
    },
    {
      "cell_type": "code",
      "source": [
        "arr"
      ],
      "metadata": {
        "colab": {
          "base_uri": "https://localhost:8080/"
        },
        "id": "mqjMsnmol8yq",
        "outputId": "b98209d8-3934-4d83-c554-991a24694a2e"
      },
      "execution_count": 5,
      "outputs": [
        {
          "output_type": "execute_result",
          "data": {
            "text/plain": [
              "array([1, 2, 3, 4, 5])"
            ]
          },
          "metadata": {},
          "execution_count": 5
        }
      ]
    },
    {
      "cell_type": "code",
      "source": [
        "arr.dtype"
      ],
      "metadata": {
        "colab": {
          "base_uri": "https://localhost:8080/"
        },
        "id": "TfyBJO10l9gr",
        "outputId": "c1c6ddcb-9aa9-4406-9a54-7f1512eb9248"
      },
      "execution_count": 9,
      "outputs": [
        {
          "output_type": "execute_result",
          "data": {
            "text/plain": [
              "dtype('int64')"
            ]
          },
          "metadata": {},
          "execution_count": 9
        }
      ]
    },
    {
      "cell_type": "code",
      "source": [
        "type(arr)"
      ],
      "metadata": {
        "colab": {
          "base_uri": "https://localhost:8080/"
        },
        "id": "HR1aZDg-mCr9",
        "outputId": "4f47a6ae-e68b-482e-81d8-15bb30cb99d7"
      },
      "execution_count": 10,
      "outputs": [
        {
          "output_type": "execute_result",
          "data": {
            "text/plain": [
              "numpy.ndarray"
            ]
          },
          "metadata": {},
          "execution_count": 10
        }
      ]
    },
    {
      "cell_type": "markdown",
      "source": [
        "**Converting an array to a torch tensor:**"
      ],
      "metadata": {
        "id": "QsWbwL-GmPSf"
      }
    },
    {
      "cell_type": "code",
      "source": [
        "torch.from_numpy(arr)"
      ],
      "metadata": {
        "colab": {
          "base_uri": "https://localhost:8080/"
        },
        "id": "YZbQDP3cmJHF",
        "outputId": "af9f7612-b8fc-447a-887a-b00aa6c04976"
      },
      "execution_count": 11,
      "outputs": [
        {
          "output_type": "execute_result",
          "data": {
            "text/plain": [
              "tensor([1, 2, 3, 4, 5])"
            ]
          },
          "metadata": {},
          "execution_count": 11
        }
      ]
    },
    {
      "cell_type": "code",
      "source": [
        "x=torch.from_numpy(arr)"
      ],
      "metadata": {
        "id": "9rNwleYUmXEL"
      },
      "execution_count": 12,
      "outputs": []
    },
    {
      "cell_type": "code",
      "source": [
        "x"
      ],
      "metadata": {
        "colab": {
          "base_uri": "https://localhost:8080/"
        },
        "id": "ATBpbna5mehP",
        "outputId": "cd95cec5-43dc-48aa-8f1f-e326b57bb378"
      },
      "execution_count": 13,
      "outputs": [
        {
          "output_type": "execute_result",
          "data": {
            "text/plain": [
              "tensor([1, 2, 3, 4, 5])"
            ]
          },
          "metadata": {},
          "execution_count": 13
        }
      ]
    },
    {
      "cell_type": "markdown",
      "source": [
        "The other way is using as_tensor function"
      ],
      "metadata": {
        "id": "ALiMBYLbmhi4"
      }
    },
    {
      "cell_type": "code",
      "source": [
        "torch.as_tensor(arr)"
      ],
      "metadata": {
        "colab": {
          "base_uri": "https://localhost:8080/"
        },
        "id": "Tk0wuqBame4y",
        "outputId": "bd31720a-5b6c-44f2-9d6c-a49ce45803bf"
      },
      "execution_count": 14,
      "outputs": [
        {
          "output_type": "execute_result",
          "data": {
            "text/plain": [
              "tensor([1, 2, 3, 4, 5])"
            ]
          },
          "metadata": {},
          "execution_count": 14
        }
      ]
    },
    {
      "cell_type": "code",
      "source": [
        "x.dtype"
      ],
      "metadata": {
        "colab": {
          "base_uri": "https://localhost:8080/"
        },
        "id": "WRufY6cCmwPZ",
        "outputId": "3b569fea-db16-4991-9f96-ad8f6c36f5a8"
      },
      "execution_count": 15,
      "outputs": [
        {
          "output_type": "execute_result",
          "data": {
            "text/plain": [
              "torch.int64"
            ]
          },
          "metadata": {},
          "execution_count": 15
        }
      ]
    },
    {
      "cell_type": "code",
      "source": [
        "arr2d=np.arange(0,12)\n",
        "arr2d"
      ],
      "metadata": {
        "colab": {
          "base_uri": "https://localhost:8080/"
        },
        "id": "BX9XXTY4m4Ym",
        "outputId": "a5a2b70b-e4f6-4ad7-af28-bcfeb26fd78f"
      },
      "execution_count": 18,
      "outputs": [
        {
          "output_type": "execute_result",
          "data": {
            "text/plain": [
              "array([ 0,  1,  2,  3,  4,  5,  6,  7,  8,  9, 10, 11])"
            ]
          },
          "metadata": {},
          "execution_count": 18
        }
      ]
    },
    {
      "cell_type": "code",
      "source": [
        "arr2d.reshape(2,6)"
      ],
      "metadata": {
        "colab": {
          "base_uri": "https://localhost:8080/"
        },
        "id": "e84MwcvFnBF-",
        "outputId": "facaf640-2b13-441e-8bb5-2e87b3d01a96"
      },
      "execution_count": 22,
      "outputs": [
        {
          "output_type": "execute_result",
          "data": {
            "text/plain": [
              "array([[ 0,  1,  2,  3,  4,  5],\n",
              "       [ 6,  7,  8,  9, 10, 11]])"
            ]
          },
          "metadata": {},
          "execution_count": 22
        }
      ]
    },
    {
      "cell_type": "code",
      "source": [
        "x2=arr2d.reshape(2,6)"
      ],
      "metadata": {
        "id": "nzEbQ4SfnMJ4"
      },
      "execution_count": 23,
      "outputs": []
    },
    {
      "cell_type": "code",
      "source": [
        "x2"
      ],
      "metadata": {
        "colab": {
          "base_uri": "https://localhost:8080/"
        },
        "id": "LSS3ai-HnOYa",
        "outputId": "cee7ab57-1d0d-4c2c-8048-7886c19b6ab7"
      },
      "execution_count": 24,
      "outputs": [
        {
          "output_type": "execute_result",
          "data": {
            "text/plain": [
              "array([[ 0,  1,  2,  3,  4,  5],\n",
              "       [ 6,  7,  8,  9, 10, 11]])"
            ]
          },
          "metadata": {},
          "execution_count": 24
        }
      ]
    },
    {
      "cell_type": "code",
      "source": [
        "arr2d"
      ],
      "metadata": {
        "colab": {
          "base_uri": "https://localhost:8080/"
        },
        "id": "rP9y7Eg4nW-Y",
        "outputId": "1d57192c-0c1e-4f4e-d8ff-3d322f7d33eb"
      },
      "execution_count": 25,
      "outputs": [
        {
          "output_type": "execute_result",
          "data": {
            "text/plain": [
              "array([ 0,  1,  2,  3,  4,  5,  6,  7,  8,  9, 10, 11])"
            ]
          },
          "metadata": {},
          "execution_count": 25
        }
      ]
    },
    {
      "cell_type": "code",
      "source": [
        "arr2d[0]=9999\n",
        "arr2d"
      ],
      "metadata": {
        "colab": {
          "base_uri": "https://localhost:8080/"
        },
        "id": "m6CuDQbEnmMs",
        "outputId": "177e80f8-7edb-4e7b-ccc4-66e8952f531b"
      },
      "execution_count": 26,
      "outputs": [
        {
          "output_type": "execute_result",
          "data": {
            "text/plain": [
              "array([9999,    1,    2,    3,    4,    5,    6,    7,    8,    9,   10,\n",
              "         11])"
            ]
          },
          "metadata": {},
          "execution_count": 26
        }
      ]
    },
    {
      "cell_type": "code",
      "source": [
        "x2"
      ],
      "metadata": {
        "colab": {
          "base_uri": "https://localhost:8080/"
        },
        "id": "f6Xy56mdnryN",
        "outputId": "73ddb950-c1ed-4337-b2cf-472d8350ca8d"
      },
      "execution_count": 27,
      "outputs": [
        {
          "output_type": "execute_result",
          "data": {
            "text/plain": [
              "array([[9999,    1,    2,    3,    4,    5],\n",
              "       [   6,    7,    8,    9,   10,   11]])"
            ]
          },
          "metadata": {},
          "execution_count": 27
        }
      ]
    },
    {
      "cell_type": "markdown",
      "source": [
        "**Note**\n",
        "\n",
        "As is clear when we change the arr elements the tensor elements are also changed. Thus the risen question  is that how we can remove this connection?"
      ],
      "metadata": {
        "id": "Z0yr_P8-nuYo"
      }
    },
    {
      "cell_type": "code",
      "source": [
        "my_arr=np.arange(0,10)\n",
        "my_tensor=torch.tensor(my_arr)\n",
        "my_other_tensor=torch.from_numpy(my_arr)"
      ],
      "metadata": {
        "id": "XzEAsTTRntXz"
      },
      "execution_count": 29,
      "outputs": []
    },
    {
      "cell_type": "code",
      "source": [
        "my_arr[0]=89898"
      ],
      "metadata": {
        "id": "ZrThoKNmoVlu"
      },
      "execution_count": 30,
      "outputs": []
    },
    {
      "cell_type": "code",
      "source": [
        "my_tensor"
      ],
      "metadata": {
        "colab": {
          "base_uri": "https://localhost:8080/"
        },
        "id": "y-gVaAicopxI",
        "outputId": "9fa93ba5-fcc7-46b8-c3f1-c65bbc5f7c3b"
      },
      "execution_count": 31,
      "outputs": [
        {
          "output_type": "execute_result",
          "data": {
            "text/plain": [
              "tensor([0, 1, 2, 3, 4, 5, 6, 7, 8, 9])"
            ]
          },
          "metadata": {},
          "execution_count": 31
        }
      ]
    },
    {
      "cell_type": "code",
      "source": [
        "my_other_tensor"
      ],
      "metadata": {
        "colab": {
          "base_uri": "https://localhost:8080/"
        },
        "id": "_TBgbwBMorPy",
        "outputId": "1bc50f3d-2f26-450d-f82b-03023dec531a"
      },
      "execution_count": 32,
      "outputs": [
        {
          "output_type": "execute_result",
          "data": {
            "text/plain": [
              "tensor([89898,     1,     2,     3,     4,     5,     6,     7,     8,     9])"
            ]
          },
          "metadata": {},
          "execution_count": 32
        }
      ]
    },
    {
      "cell_type": "markdown",
      "source": [
        "Note: As is clear torch.tensor would save a copy of the array."
      ],
      "metadata": {
        "id": "88ZHHuuEou8m"
      }
    },
    {
      "cell_type": "markdown",
      "source": [
        "Note torch.Tensor would generate the float form of the arrays instead of the int"
      ],
      "metadata": {
        "id": "tB-z8bwepYd-"
      }
    },
    {
      "cell_type": "code",
      "source": [
        "d=np.arange(0,10)\n",
        "f=torch.tensor(d)\n",
        "f.dtype"
      ],
      "metadata": {
        "colab": {
          "base_uri": "https://localhost:8080/"
        },
        "id": "d9q29SCjouAf",
        "outputId": "fba0aed8-d1e9-4426-9f50-7b7ebe5fc5fe"
      },
      "execution_count": 35,
      "outputs": [
        {
          "output_type": "execute_result",
          "data": {
            "text/plain": [
              "torch.int64"
            ]
          },
          "metadata": {},
          "execution_count": 35
        }
      ]
    },
    {
      "cell_type": "code",
      "source": [
        "g=torch.Tensor(d)\n",
        "g.dtype"
      ],
      "metadata": {
        "colab": {
          "base_uri": "https://localhost:8080/"
        },
        "id": "q79KTkaopkg3",
        "outputId": "f44f10b6-9c98-422b-f373-506590b5c3fd"
      },
      "execution_count": 36,
      "outputs": [
        {
          "output_type": "execute_result",
          "data": {
            "text/plain": [
              "torch.float32"
            ]
          },
          "metadata": {},
          "execution_count": 36
        }
      ]
    },
    {
      "cell_type": "markdown",
      "source": [
        "Note: We have some functions in torch to make placeholders"
      ],
      "metadata": {
        "id": "7sOyCwrpqVQz"
      }
    },
    {
      "cell_type": "markdown",
      "source": [
        "torch.empty() would make a tensor with elements near to zero"
      ],
      "metadata": {
        "id": "mv3AIgTFqfqq"
      }
    },
    {
      "cell_type": "code",
      "source": [
        "torch.empty(2,2)"
      ],
      "metadata": {
        "colab": {
          "base_uri": "https://localhost:8080/"
        },
        "id": "1NHwpU_bpv00",
        "outputId": "397953e4-141e-463c-b1a9-c09d928bc0a8"
      },
      "execution_count": 37,
      "outputs": [
        {
          "output_type": "execute_result",
          "data": {
            "text/plain": [
              "tensor([[0.0000e+00, 0.0000e+00],\n",
              "        [1.2612e-44, 0.0000e+00]])"
            ]
          },
          "metadata": {},
          "execution_count": 37
        }
      ]
    },
    {
      "cell_type": "markdown",
      "source": [
        "torch.zeros() would make a tensor with zero elements"
      ],
      "metadata": {
        "id": "-YiKw4mBq2g1"
      }
    },
    {
      "cell_type": "code",
      "source": [
        "torch.zeros(3,4)"
      ],
      "metadata": {
        "colab": {
          "base_uri": "https://localhost:8080/"
        },
        "id": "E24Br54mqsPL",
        "outputId": "84f5c7af-52cc-4639-9573-36c29f2fefb8"
      },
      "execution_count": 38,
      "outputs": [
        {
          "output_type": "execute_result",
          "data": {
            "text/plain": [
              "tensor([[0., 0., 0., 0.],\n",
              "        [0., 0., 0., 0.],\n",
              "        [0., 0., 0., 0.]])"
            ]
          },
          "metadata": {},
          "execution_count": 38
        }
      ]
    },
    {
      "cell_type": "code",
      "source": [
        "torch.ones(2,3)"
      ],
      "metadata": {
        "colab": {
          "base_uri": "https://localhost:8080/"
        },
        "id": "dBmqUariq_Ga",
        "outputId": "889e97c1-1031-4f4d-91d0-658ceaedf827"
      },
      "execution_count": 39,
      "outputs": [
        {
          "output_type": "execute_result",
          "data": {
            "text/plain": [
              "tensor([[1., 1., 1.],\n",
              "        [1., 1., 1.]])"
            ]
          },
          "metadata": {},
          "execution_count": 39
        }
      ]
    },
    {
      "cell_type": "code",
      "source": [
        "torch.arange(0,13,2)"
      ],
      "metadata": {
        "colab": {
          "base_uri": "https://localhost:8080/"
        },
        "id": "JS_5fdWdrMcg",
        "outputId": "f04edd91-a6e2-459a-a3f4-10884300ed09"
      },
      "execution_count": 40,
      "outputs": [
        {
          "output_type": "execute_result",
          "data": {
            "text/plain": [
              "tensor([ 0,  2,  4,  6,  8, 10, 12])"
            ]
          },
          "metadata": {},
          "execution_count": 40
        }
      ]
    },
    {
      "cell_type": "code",
      "source": [
        "torch.arange(0,12,2).reshape(2,3)"
      ],
      "metadata": {
        "colab": {
          "base_uri": "https://localhost:8080/"
        },
        "id": "oHYsgMSgrT5n",
        "outputId": "9e9a645e-3e75-4d02-c956-11f0ffb7bd32"
      },
      "execution_count": 43,
      "outputs": [
        {
          "output_type": "execute_result",
          "data": {
            "text/plain": [
              "tensor([[ 0,  2,  4],\n",
              "        [ 6,  8, 10]])"
            ]
          },
          "metadata": {},
          "execution_count": 43
        }
      ]
    },
    {
      "cell_type": "code",
      "source": [
        "torch.linspace(0,14,18)\n",
        "#returns lineary space"
      ],
      "metadata": {
        "colab": {
          "base_uri": "https://localhost:8080/"
        },
        "id": "hjjYRcJ4rbRN",
        "outputId": "faa48697-460d-4dd6-88ac-99a01108eb44"
      },
      "execution_count": 46,
      "outputs": [
        {
          "output_type": "execute_result",
          "data": {
            "text/plain": [
              "tensor([ 0.0000,  0.8235,  1.6471,  2.4706,  3.2941,  4.1176,  4.9412,  5.7647,\n",
              "         6.5882,  7.4118,  8.2353,  9.0588,  9.8824, 10.7059, 11.5294, 12.3529,\n",
              "        13.1765, 14.0000])"
            ]
          },
          "metadata": {},
          "execution_count": 46
        }
      ]
    },
    {
      "cell_type": "markdown",
      "source": [
        "Note: you can also make tensor from skract and with out converting array to tensor."
      ],
      "metadata": {
        "id": "eNbflRqFr2r_"
      }
    },
    {
      "cell_type": "code",
      "source": [
        "torch.tensor([1,2,34])"
      ],
      "metadata": {
        "colab": {
          "base_uri": "https://localhost:8080/"
        },
        "id": "fQ6gio8arohS",
        "outputId": "526a73ee-4058-4284-aac9-e44ebb5ae6fa"
      },
      "execution_count": 47,
      "outputs": [
        {
          "output_type": "execute_result",
          "data": {
            "text/plain": [
              "tensor([ 1,  2, 34])"
            ]
          },
          "metadata": {},
          "execution_count": 47
        }
      ]
    },
    {
      "cell_type": "markdown",
      "source": [
        "Note: You can change the data type in the tensor"
      ],
      "metadata": {
        "id": "gSJV0w5_sPy0"
      }
    },
    {
      "cell_type": "code",
      "source": [
        "my_tensor=torch.tensor([1,2,4])"
      ],
      "metadata": {
        "id": "jPStkSZIsC1d"
      },
      "execution_count": 48,
      "outputs": []
    },
    {
      "cell_type": "code",
      "source": [
        "my_tensor.dtype"
      ],
      "metadata": {
        "colab": {
          "base_uri": "https://localhost:8080/"
        },
        "id": "jao7SpG9sZl6",
        "outputId": "03a15717-03d4-4e7c-e19b-378fafd49736"
      },
      "execution_count": 49,
      "outputs": [
        {
          "output_type": "execute_result",
          "data": {
            "text/plain": [
              "torch.int64"
            ]
          },
          "metadata": {},
          "execution_count": 49
        }
      ]
    },
    {
      "cell_type": "code",
      "source": [
        "my_tensor=my_tensor.type(torch.int32)"
      ],
      "metadata": {
        "id": "FUyzxKLrsc2g"
      },
      "execution_count": 50,
      "outputs": []
    },
    {
      "cell_type": "code",
      "source": [
        "my_tensor.dtype"
      ],
      "metadata": {
        "colab": {
          "base_uri": "https://localhost:8080/"
        },
        "id": "u-rVKkicsk0c",
        "outputId": "0790d5e9-aaad-4410-e89b-e0672f21c50b"
      },
      "execution_count": 51,
      "outputs": [
        {
          "output_type": "execute_result",
          "data": {
            "text/plain": [
              "torch.int32"
            ]
          },
          "metadata": {},
          "execution_count": 51
        }
      ]
    },
    {
      "cell_type": "markdown",
      "source": [
        "**Making Randoms in Tensor**"
      ],
      "metadata": {
        "id": "_shAK3X6swAV"
      }
    },
    {
      "cell_type": "code",
      "source": [
        "torch.rand(4,3)"
      ],
      "metadata": {
        "colab": {
          "base_uri": "https://localhost:8080/"
        },
        "id": "2RH6GfsJsmoO",
        "outputId": "07a0a070-b35e-4643-9939-63f1515c814f"
      },
      "execution_count": 52,
      "outputs": [
        {
          "output_type": "execute_result",
          "data": {
            "text/plain": [
              "tensor([[0.5388, 0.9872, 0.8161],\n",
              "        [0.0861, 0.2681, 0.0070],\n",
              "        [0.6062, 0.2844, 0.0192],\n",
              "        [0.6035, 0.6476, 0.3976]])"
            ]
          },
          "metadata": {},
          "execution_count": 52
        }
      ]
    },
    {
      "cell_type": "markdown",
      "source": [
        "Randn would make normal distribution"
      ],
      "metadata": {
        "id": "yH0Hx5tWs9G7"
      }
    },
    {
      "cell_type": "code",
      "source": [
        "torch.randn(3,4)"
      ],
      "metadata": {
        "colab": {
          "base_uri": "https://localhost:8080/"
        },
        "id": "N4F1ACYrs3tL",
        "outputId": "0dd608fc-76af-4ed7-8e66-eceda1c5d161"
      },
      "execution_count": 53,
      "outputs": [
        {
          "output_type": "execute_result",
          "data": {
            "text/plain": [
              "tensor([[-0.2638,  1.3503, -1.2502, -1.4412],\n",
              "        [ 1.5116,  1.0697,  0.3868,  0.6131],\n",
              "        [ 0.4098,  0.8361, -0.1820, -0.4181]])"
            ]
          },
          "metadata": {},
          "execution_count": 53
        }
      ]
    },
    {
      "cell_type": "code",
      "source": [
        "torch.randint(low=0, high=6, size=(3,7))"
      ],
      "metadata": {
        "colab": {
          "base_uri": "https://localhost:8080/"
        },
        "id": "QHbpecTGtDfR",
        "outputId": "280a02e3-2216-4a2d-ea7c-3e6c05cf9371"
      },
      "execution_count": 54,
      "outputs": [
        {
          "output_type": "execute_result",
          "data": {
            "text/plain": [
              "tensor([[0, 1, 1, 2, 4, 5, 5],\n",
              "        [0, 3, 1, 2, 5, 0, 3],\n",
              "        [2, 4, 3, 3, 2, 2, 2]])"
            ]
          },
          "metadata": {},
          "execution_count": 54
        }
      ]
    },
    {
      "cell_type": "markdown",
      "source": [
        "Note: you can also make rand tensors with the shape of another tensor"
      ],
      "metadata": {
        "id": "BOBSjK_ntmbY"
      }
    },
    {
      "cell_type": "code",
      "source": [
        "x=torch.zeros(3,4)"
      ],
      "metadata": {
        "id": "2wdHIpGAt1Fl"
      },
      "execution_count": 57,
      "outputs": []
    },
    {
      "cell_type": "code",
      "source": [
        "torch.rand_like(x)"
      ],
      "metadata": {
        "colab": {
          "base_uri": "https://localhost:8080/"
        },
        "id": "4V0HQn0ttSfN",
        "outputId": "402633c0-9bf6-4568-8c9b-491a42812468"
      },
      "execution_count": 58,
      "outputs": [
        {
          "output_type": "execute_result",
          "data": {
            "text/plain": [
              "tensor([[0.4331, 0.1757, 0.3021, 0.8683],\n",
              "        [0.1084, 0.7305, 0.5589, 0.5587],\n",
              "        [0.0743, 0.0104, 0.5763, 0.1550]])"
            ]
          },
          "metadata": {},
          "execution_count": 58
        }
      ]
    },
    {
      "cell_type": "markdown",
      "source": [
        "\n",
        "For having the reproducabilities of the random tensors you can use seeds!!"
      ],
      "metadata": {
        "id": "J1BIBcH6uD89"
      }
    },
    {
      "cell_type": "code",
      "source": [
        "torch.manual_seed(42)\n",
        "torch.rand(2,3)"
      ],
      "metadata": {
        "colab": {
          "base_uri": "https://localhost:8080/"
        },
        "id": "69T9jkkgtu0E",
        "outputId": "cdf95c32-1efc-4a4f-c583-1b39617c8e2e"
      },
      "execution_count": 59,
      "outputs": [
        {
          "output_type": "execute_result",
          "data": {
            "text/plain": [
              "tensor([[0.8823, 0.9150, 0.3829],\n",
              "        [0.9593, 0.3904, 0.6009]])"
            ]
          },
          "metadata": {},
          "execution_count": 59
        }
      ]
    },
    {
      "cell_type": "code",
      "source": [
        "arr=np.arange(0,4)\n",
        "arr"
      ],
      "metadata": {
        "colab": {
          "base_uri": "https://localhost:8080/"
        },
        "id": "4sZcRBR6wk-y",
        "outputId": "edaeafa8-7093-42f2-c7e7-de5b7ab4a025"
      },
      "execution_count": 73,
      "outputs": [
        {
          "output_type": "execute_result",
          "data": {
            "text/plain": [
              "array([0, 1, 2, 3])"
            ]
          },
          "metadata": {},
          "execution_count": 73
        }
      ]
    },
    {
      "cell_type": "code",
      "source": [
        "arr2=np.array([1,2,3,4])\n",
        "arr2"
      ],
      "metadata": {
        "colab": {
          "base_uri": "https://localhost:8080/"
        },
        "id": "62hdZqqbwplj",
        "outputId": "87891c31-2f90-4283-bfb0-5d63a4e50e04"
      },
      "execution_count": 74,
      "outputs": [
        {
          "output_type": "execute_result",
          "data": {
            "text/plain": [
              "array([1, 2, 3, 4])"
            ]
          },
          "metadata": {},
          "execution_count": 74
        }
      ]
    },
    {
      "cell_type": "code",
      "source": [
        "arr2+arr"
      ],
      "metadata": {
        "colab": {
          "base_uri": "https://localhost:8080/"
        },
        "id": "ZCyYkPbFw4wo",
        "outputId": "e78c11b7-15a7-4bd4-91af-79e1b7b6d7b6"
      },
      "execution_count": 75,
      "outputs": [
        {
          "output_type": "execute_result",
          "data": {
            "text/plain": [
              "array([1, 3, 5, 7])"
            ]
          },
          "metadata": {},
          "execution_count": 75
        }
      ]
    },
    {
      "cell_type": "code",
      "source": [
        "arr2*arr"
      ],
      "metadata": {
        "colab": {
          "base_uri": "https://localhost:8080/"
        },
        "id": "s4vVS6H_w7No",
        "outputId": "184a987a-09d4-4058-bf98-653011563265"
      },
      "execution_count": 76,
      "outputs": [
        {
          "output_type": "execute_result",
          "data": {
            "text/plain": [
              "array([ 0,  2,  6, 12])"
            ]
          },
          "metadata": {},
          "execution_count": 76
        }
      ]
    },
    {
      "cell_type": "code",
      "source": [
        "a=[1,3,4]\n",
        "b=[4,5,6]\n",
        "a+b"
      ],
      "metadata": {
        "colab": {
          "base_uri": "https://localhost:8080/"
        },
        "id": "Vz1GuepJxEti",
        "outputId": "8437c4de-0c24-4eb1-fbba-42493c8c745f"
      },
      "execution_count": 77,
      "outputs": [
        {
          "output_type": "execute_result",
          "data": {
            "text/plain": [
              "[1, 3, 4, 4, 5, 6]"
            ]
          },
          "metadata": {},
          "execution_count": 77
        }
      ]
    },
    {
      "cell_type": "markdown",
      "source": [
        "**Multiplying**"
      ],
      "metadata": {
        "id": "3RmtuuepwD11"
      }
    },
    {
      "cell_type": "code",
      "source": [
        "a=torch.arange(10).reshape(2,5)\n",
        "a"
      ],
      "metadata": {
        "colab": {
          "base_uri": "https://localhost:8080/"
        },
        "id": "14feaJCEubUY",
        "outputId": "5cff32b5-62e2-49bb-a112-aea3765cacec"
      },
      "execution_count": 78,
      "outputs": [
        {
          "output_type": "execute_result",
          "data": {
            "text/plain": [
              "tensor([[0, 1, 2, 3, 4],\n",
              "        [5, 6, 7, 8, 9]])"
            ]
          },
          "metadata": {},
          "execution_count": 78
        }
      ]
    },
    {
      "cell_type": "code",
      "source": [
        "b=torch.randint(0,10,(2,5))\n",
        "b"
      ],
      "metadata": {
        "colab": {
          "base_uri": "https://localhost:8080/"
        },
        "id": "uQXXD9KQwChX",
        "outputId": "06643976-406e-46f4-8cfb-f41f5c31a26b"
      },
      "execution_count": 79,
      "outputs": [
        {
          "output_type": "execute_result",
          "data": {
            "text/plain": [
              "tensor([[5, 5, 7, 6, 9],\n",
              "        [6, 3, 1, 9, 3]])"
            ]
          },
          "metadata": {},
          "execution_count": 79
        }
      ]
    },
    {
      "cell_type": "code",
      "source": [
        "a+b"
      ],
      "metadata": {
        "colab": {
          "base_uri": "https://localhost:8080/"
        },
        "id": "kJ2Xy1DAwQvE",
        "outputId": "bb960fb6-1379-499b-8d61-ed66349aa3a0"
      },
      "execution_count": 80,
      "outputs": [
        {
          "output_type": "execute_result",
          "data": {
            "text/plain": [
              "tensor([[ 5,  6,  9,  9, 13],\n",
              "        [11,  9,  8, 17, 12]])"
            ]
          },
          "metadata": {},
          "execution_count": 80
        }
      ]
    },
    {
      "cell_type": "code",
      "source": [
        "a*b"
      ],
      "metadata": {
        "colab": {
          "base_uri": "https://localhost:8080/"
        },
        "id": "eUXQaiKewd9b",
        "outputId": "13ffa75f-ccf0-46d7-c090-37fc7af40a09"
      },
      "execution_count": 81,
      "outputs": [
        {
          "output_type": "execute_result",
          "data": {
            "text/plain": [
              "tensor([[ 0,  5, 14, 18, 36],\n",
              "        [30, 18,  7, 72, 27]])"
            ]
          },
          "metadata": {},
          "execution_count": 81
        }
      ]
    },
    {
      "cell_type": "code",
      "source": [
        "a.mul(b)"
      ],
      "metadata": {
        "colab": {
          "base_uri": "https://localhost:8080/"
        },
        "id": "wR-fYgvKwfjG",
        "outputId": "cec96f53-19b7-4ed8-e118-64d4ece5ac2b"
      },
      "execution_count": 82,
      "outputs": [
        {
          "output_type": "execute_result",
          "data": {
            "text/plain": [
              "tensor([[ 0,  5, 14, 18, 36],\n",
              "        [30, 18,  7, 72, 27]])"
            ]
          },
          "metadata": {},
          "execution_count": 82
        }
      ]
    },
    {
      "cell_type": "code",
      "source": [
        "a"
      ],
      "metadata": {
        "colab": {
          "base_uri": "https://localhost:8080/"
        },
        "id": "vCFLkxtTxTSh",
        "outputId": "001054b1-3271-407c-fc09-05a9a8fd1463"
      },
      "execution_count": 83,
      "outputs": [
        {
          "output_type": "execute_result",
          "data": {
            "text/plain": [
              "tensor([[0, 1, 2, 3, 4],\n",
              "        [5, 6, 7, 8, 9]])"
            ]
          },
          "metadata": {},
          "execution_count": 83
        }
      ]
    },
    {
      "cell_type": "markdown",
      "source": [
        "Note: if we use mul_ the tensor would save on a"
      ],
      "metadata": {
        "id": "FTTn3HGaxWFp"
      }
    },
    {
      "cell_type": "code",
      "source": [
        "a.mul_(b)"
      ],
      "metadata": {
        "colab": {
          "base_uri": "https://localhost:8080/"
        },
        "id": "4IzcU4MOxUyv",
        "outputId": "81a300eb-cdc1-4a77-9192-a3a29a69a470"
      },
      "execution_count": 84,
      "outputs": [
        {
          "output_type": "execute_result",
          "data": {
            "text/plain": [
              "tensor([[ 0,  5, 14, 18, 36],\n",
              "        [30, 18,  7, 72, 27]])"
            ]
          },
          "metadata": {},
          "execution_count": 84
        }
      ]
    },
    {
      "cell_type": "code",
      "source": [
        "a"
      ],
      "metadata": {
        "colab": {
          "base_uri": "https://localhost:8080/"
        },
        "id": "IOPUwPCJxc10",
        "outputId": "45ff7e59-10f3-4478-a113-4fcbd828ce97"
      },
      "execution_count": 85,
      "outputs": [
        {
          "output_type": "execute_result",
          "data": {
            "text/plain": [
              "tensor([[ 0,  5, 14, 18, 36],\n",
              "        [30, 18,  7, 72, 27]])"
            ]
          },
          "metadata": {},
          "execution_count": 85
        }
      ]
    },
    {
      "cell_type": "markdown",
      "source": [
        "This is the same on other opperations like add_"
      ],
      "metadata": {
        "id": "QGEau-h-xfla"
      }
    },
    {
      "cell_type": "markdown",
      "source": [
        "Note: A*b is always element by element product. for matrix multiply we can use the following function"
      ],
      "metadata": {
        "id": "L6AptynLyCeM"
      }
    },
    {
      "cell_type": "code",
      "source": [
        "a=torch.tensor([[0,2,3],[3,4,5]])\n",
        "a"
      ],
      "metadata": {
        "colab": {
          "base_uri": "https://localhost:8080/"
        },
        "id": "t7cFLU6cxeGD",
        "outputId": "ee988cbe-a219-4cf1-cfda-975aa782d20f"
      },
      "execution_count": 87,
      "outputs": [
        {
          "output_type": "execute_result",
          "data": {
            "text/plain": [
              "tensor([[0, 2, 3],\n",
              "        [3, 4, 5]])"
            ]
          },
          "metadata": {},
          "execution_count": 87
        }
      ]
    },
    {
      "cell_type": "code",
      "source": [
        "b=torch.tensor([[6,7],[8,9],[5,6]])"
      ],
      "metadata": {
        "id": "d7pbgdUByksn"
      },
      "execution_count": 89,
      "outputs": []
    },
    {
      "cell_type": "code",
      "source": [
        "a.shape"
      ],
      "metadata": {
        "colab": {
          "base_uri": "https://localhost:8080/"
        },
        "id": "-6380f8ky0zI",
        "outputId": "f7d60bf4-8c19-4a4e-dd51-b3f41f6503fc"
      },
      "execution_count": 90,
      "outputs": [
        {
          "output_type": "execute_result",
          "data": {
            "text/plain": [
              "torch.Size([2, 3])"
            ]
          },
          "metadata": {},
          "execution_count": 90
        }
      ]
    },
    {
      "cell_type": "code",
      "source": [
        "b.shape"
      ],
      "metadata": {
        "colab": {
          "base_uri": "https://localhost:8080/"
        },
        "id": "z06G8GYwy7fV",
        "outputId": "dc39f712-4ed3-46ed-abaf-a7c7d8bad741"
      },
      "execution_count": 91,
      "outputs": [
        {
          "output_type": "execute_result",
          "data": {
            "text/plain": [
              "torch.Size([3, 2])"
            ]
          },
          "metadata": {},
          "execution_count": 91
        }
      ]
    },
    {
      "cell_type": "code",
      "source": [
        "torch.mm(a,b)"
      ],
      "metadata": {
        "colab": {
          "base_uri": "https://localhost:8080/"
        },
        "id": "5ANAP8xoy8uN",
        "outputId": "be72000a-7128-4f9c-943b-0efc1cd57064"
      },
      "execution_count": 92,
      "outputs": [
        {
          "output_type": "execute_result",
          "data": {
            "text/plain": [
              "tensor([[31, 36],\n",
              "        [75, 87]])"
            ]
          },
          "metadata": {},
          "execution_count": 92
        }
      ]
    },
    {
      "cell_type": "markdown",
      "source": [
        "numel() would retrun the number of the elements in a tensor"
      ],
      "metadata": {
        "id": "TGo4MiaezShE"
      }
    },
    {
      "cell_type": "code",
      "source": [
        "b.numel()"
      ],
      "metadata": {
        "colab": {
          "base_uri": "https://localhost:8080/"
        },
        "id": "Uhkg3g6ezBWZ",
        "outputId": "acd6e75f-63ca-48b9-e340-a7ab611318b4"
      },
      "execution_count": 93,
      "outputs": [
        {
          "output_type": "execute_result",
          "data": {
            "text/plain": [
              "6"
            ]
          },
          "metadata": {},
          "execution_count": 93
        }
      ]
    },
    {
      "cell_type": "code",
      "source": [
        "len(b)\n",
        "#number of rows"
      ],
      "metadata": {
        "colab": {
          "base_uri": "https://localhost:8080/"
        },
        "id": "oyqzAXpezX2r",
        "outputId": "b5eb2f82-4840-43ce-e4c5-08b495625edf"
      },
      "execution_count": 95,
      "outputs": [
        {
          "output_type": "execute_result",
          "data": {
            "text/plain": [
              "3"
            ]
          },
          "metadata": {},
          "execution_count": 95
        }
      ]
    },
    {
      "cell_type": "code",
      "source": [],
      "metadata": {
        "id": "2lIUykq4zaIj"
      },
      "execution_count": null,
      "outputs": []
    }
  ]
}