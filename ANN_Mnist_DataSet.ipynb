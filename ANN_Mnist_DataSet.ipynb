{
  "nbformat": 4,
  "nbformat_minor": 0,
  "metadata": {
    "colab": {
      "provenance": [],
      "authorship_tag": "ABX9TyPm7cKs1IlIT7FA7wvNojQi",
      "include_colab_link": true
    },
    "kernelspec": {
      "name": "python3",
      "display_name": "Python 3"
    },
    "language_info": {
      "name": "python"
    }
  },
  "cells": [
    {
      "cell_type": "markdown",
      "metadata": {
        "id": "view-in-github",
        "colab_type": "text"
      },
      "source": [
        "<a href=\"https://colab.research.google.com/github/Ali-mohammadi-design/PyTorch_for_medical_images/blob/main/ANN_Mnist_DataSet.ipynb\" target=\"_parent\"><img src=\"https://colab.research.google.com/assets/colab-badge.svg\" alt=\"Open In Colab\"/></a>"
      ]
    },
    {
      "cell_type": "code",
      "execution_count": 26,
      "metadata": {
        "id": "iZrTKNE-FWsr"
      },
      "outputs": [],
      "source": [
        "import torch\n",
        "import torch.nn as nn\n",
        "import torch.nn.functional as f"
      ]
    },
    {
      "cell_type": "code",
      "source": [
        "from torch.utils.data import DataLoader\n",
        "from torchvision import datasets, transforms"
      ],
      "metadata": {
        "id": "QDWLkyaIFsnM"
      },
      "execution_count": 27,
      "outputs": []
    },
    {
      "cell_type": "code",
      "source": [
        "import numpy as np\n",
        "import pandas as pd\n",
        "from sklearn.metrics import confusion_matrix\n",
        "import matplotlib.pyplot as plt"
      ],
      "metadata": {
        "id": "BhhCgW5bF9xQ"
      },
      "execution_count": 28,
      "outputs": []
    },
    {
      "cell_type": "markdown",
      "source": [
        "**Downloading Mnist dataset and convert it to a tensor**"
      ],
      "metadata": {
        "id": "1ViRcf1yGY_7"
      }
    },
    {
      "cell_type": "code",
      "source": [
        "transform= transforms.ToTensor()"
      ],
      "metadata": {
        "id": "J4qKImseGC68"
      },
      "execution_count": 29,
      "outputs": []
    },
    {
      "cell_type": "markdown",
      "source": [
        "Input: transforms.ToTensor() takes an image as input, typically in the form of a PIL.Image or a NumPy array.\n",
        "\n",
        "\n",
        "Output: It converts the image into a PyTorch tensor.\n",
        "\n",
        "\n",
        "Normalization: Additionally, it scales the pixel values from the range [0, 255] (for 8-bit images) to the range [0, 1], which is a floating-point range."
      ],
      "metadata": {
        "id": "NcaMCTpiG67D"
      }
    },
    {
      "cell_type": "code",
      "source": [
        "train_data=datasets.MNIST(root='../Data', train=True, download=True, transform=transform)"
      ],
      "metadata": {
        "id": "u_kie61KG7SM"
      },
      "execution_count": 30,
      "outputs": []
    },
    {
      "cell_type": "code",
      "source": [
        "test_data=datasets.MNIST(root='../Data', train=False, download=True, transform=transform)"
      ],
      "metadata": {
        "id": "SoWKk7WhHnQl"
      },
      "execution_count": 31,
      "outputs": []
    },
    {
      "cell_type": "code",
      "source": [
        "train_data"
      ],
      "metadata": {
        "colab": {
          "base_uri": "https://localhost:8080/"
        },
        "id": "jA_h-STjH6vB",
        "outputId": "393d9a77-0b0b-42e9-db60-0e8be8561657"
      },
      "execution_count": 32,
      "outputs": [
        {
          "output_type": "execute_result",
          "data": {
            "text/plain": [
              "Dataset MNIST\n",
              "    Number of datapoints: 60000\n",
              "    Root location: ../Data\n",
              "    Split: Train\n",
              "    StandardTransform\n",
              "Transform: ToTensor()"
            ]
          },
          "metadata": {},
          "execution_count": 32
        }
      ]
    },
    {
      "cell_type": "code",
      "source": [
        "test_data"
      ],
      "metadata": {
        "colab": {
          "base_uri": "https://localhost:8080/"
        },
        "id": "s-AX_AnOH-qU",
        "outputId": "b51423d3-5b24-43e2-cdc8-9d0c07cf552b"
      },
      "execution_count": 33,
      "outputs": [
        {
          "output_type": "execute_result",
          "data": {
            "text/plain": [
              "Dataset MNIST\n",
              "    Number of datapoints: 10000\n",
              "    Root location: ../Data\n",
              "    Split: Test\n",
              "    StandardTransform\n",
              "Transform: ToTensor()"
            ]
          },
          "metadata": {},
          "execution_count": 33
        }
      ]
    },
    {
      "cell_type": "code",
      "source": [
        "train_data[0]"
      ],
      "metadata": {
        "colab": {
          "base_uri": "https://localhost:8080/"
        },
        "id": "aPfu-Pc8IAhv",
        "outputId": "1ffbbce4-bf7a-4540-a0a2-9d30bfbc919a"
      },
      "execution_count": 34,
      "outputs": [
        {
          "output_type": "execute_result",
          "data": {
            "text/plain": [
              "(tensor([[[0.0000, 0.0000, 0.0000, 0.0000, 0.0000, 0.0000, 0.0000, 0.0000,\n",
              "           0.0000, 0.0000, 0.0000, 0.0000, 0.0000, 0.0000, 0.0000, 0.0000,\n",
              "           0.0000, 0.0000, 0.0000, 0.0000, 0.0000, 0.0000, 0.0000, 0.0000,\n",
              "           0.0000, 0.0000, 0.0000, 0.0000],\n",
              "          [0.0000, 0.0000, 0.0000, 0.0000, 0.0000, 0.0000, 0.0000, 0.0000,\n",
              "           0.0000, 0.0000, 0.0000, 0.0000, 0.0000, 0.0000, 0.0000, 0.0000,\n",
              "           0.0000, 0.0000, 0.0000, 0.0000, 0.0000, 0.0000, 0.0000, 0.0000,\n",
              "           0.0000, 0.0000, 0.0000, 0.0000],\n",
              "          [0.0000, 0.0000, 0.0000, 0.0000, 0.0000, 0.0000, 0.0000, 0.0000,\n",
              "           0.0000, 0.0000, 0.0000, 0.0000, 0.0000, 0.0000, 0.0000, 0.0000,\n",
              "           0.0000, 0.0000, 0.0000, 0.0000, 0.0000, 0.0000, 0.0000, 0.0000,\n",
              "           0.0000, 0.0000, 0.0000, 0.0000],\n",
              "          [0.0000, 0.0000, 0.0000, 0.0000, 0.0000, 0.0000, 0.0000, 0.0000,\n",
              "           0.0000, 0.0000, 0.0000, 0.0000, 0.0000, 0.0000, 0.0000, 0.0000,\n",
              "           0.0000, 0.0000, 0.0000, 0.0000, 0.0000, 0.0000, 0.0000, 0.0000,\n",
              "           0.0000, 0.0000, 0.0000, 0.0000],\n",
              "          [0.0000, 0.0000, 0.0000, 0.0000, 0.0000, 0.0000, 0.0000, 0.0000,\n",
              "           0.0000, 0.0000, 0.0000, 0.0000, 0.0000, 0.0000, 0.0000, 0.0000,\n",
              "           0.0000, 0.0000, 0.0000, 0.0000, 0.0000, 0.0000, 0.0000, 0.0000,\n",
              "           0.0000, 0.0000, 0.0000, 0.0000],\n",
              "          [0.0000, 0.0000, 0.0000, 0.0000, 0.0000, 0.0000, 0.0000, 0.0000,\n",
              "           0.0000, 0.0000, 0.0000, 0.0000, 0.0118, 0.0706, 0.0706, 0.0706,\n",
              "           0.4941, 0.5333, 0.6863, 0.1020, 0.6510, 1.0000, 0.9686, 0.4980,\n",
              "           0.0000, 0.0000, 0.0000, 0.0000],\n",
              "          [0.0000, 0.0000, 0.0000, 0.0000, 0.0000, 0.0000, 0.0000, 0.0000,\n",
              "           0.1176, 0.1412, 0.3686, 0.6039, 0.6667, 0.9922, 0.9922, 0.9922,\n",
              "           0.9922, 0.9922, 0.8824, 0.6745, 0.9922, 0.9490, 0.7647, 0.2510,\n",
              "           0.0000, 0.0000, 0.0000, 0.0000],\n",
              "          [0.0000, 0.0000, 0.0000, 0.0000, 0.0000, 0.0000, 0.0000, 0.1922,\n",
              "           0.9333, 0.9922, 0.9922, 0.9922, 0.9922, 0.9922, 0.9922, 0.9922,\n",
              "           0.9922, 0.9843, 0.3647, 0.3216, 0.3216, 0.2196, 0.1529, 0.0000,\n",
              "           0.0000, 0.0000, 0.0000, 0.0000],\n",
              "          [0.0000, 0.0000, 0.0000, 0.0000, 0.0000, 0.0000, 0.0000, 0.0706,\n",
              "           0.8588, 0.9922, 0.9922, 0.9922, 0.9922, 0.9922, 0.7765, 0.7137,\n",
              "           0.9686, 0.9451, 0.0000, 0.0000, 0.0000, 0.0000, 0.0000, 0.0000,\n",
              "           0.0000, 0.0000, 0.0000, 0.0000],\n",
              "          [0.0000, 0.0000, 0.0000, 0.0000, 0.0000, 0.0000, 0.0000, 0.0000,\n",
              "           0.3137, 0.6118, 0.4196, 0.9922, 0.9922, 0.8039, 0.0431, 0.0000,\n",
              "           0.1686, 0.6039, 0.0000, 0.0000, 0.0000, 0.0000, 0.0000, 0.0000,\n",
              "           0.0000, 0.0000, 0.0000, 0.0000],\n",
              "          [0.0000, 0.0000, 0.0000, 0.0000, 0.0000, 0.0000, 0.0000, 0.0000,\n",
              "           0.0000, 0.0549, 0.0039, 0.6039, 0.9922, 0.3529, 0.0000, 0.0000,\n",
              "           0.0000, 0.0000, 0.0000, 0.0000, 0.0000, 0.0000, 0.0000, 0.0000,\n",
              "           0.0000, 0.0000, 0.0000, 0.0000],\n",
              "          [0.0000, 0.0000, 0.0000, 0.0000, 0.0000, 0.0000, 0.0000, 0.0000,\n",
              "           0.0000, 0.0000, 0.0000, 0.5451, 0.9922, 0.7451, 0.0078, 0.0000,\n",
              "           0.0000, 0.0000, 0.0000, 0.0000, 0.0000, 0.0000, 0.0000, 0.0000,\n",
              "           0.0000, 0.0000, 0.0000, 0.0000],\n",
              "          [0.0000, 0.0000, 0.0000, 0.0000, 0.0000, 0.0000, 0.0000, 0.0000,\n",
              "           0.0000, 0.0000, 0.0000, 0.0431, 0.7451, 0.9922, 0.2745, 0.0000,\n",
              "           0.0000, 0.0000, 0.0000, 0.0000, 0.0000, 0.0000, 0.0000, 0.0000,\n",
              "           0.0000, 0.0000, 0.0000, 0.0000],\n",
              "          [0.0000, 0.0000, 0.0000, 0.0000, 0.0000, 0.0000, 0.0000, 0.0000,\n",
              "           0.0000, 0.0000, 0.0000, 0.0000, 0.1373, 0.9451, 0.8824, 0.6275,\n",
              "           0.4235, 0.0039, 0.0000, 0.0000, 0.0000, 0.0000, 0.0000, 0.0000,\n",
              "           0.0000, 0.0000, 0.0000, 0.0000],\n",
              "          [0.0000, 0.0000, 0.0000, 0.0000, 0.0000, 0.0000, 0.0000, 0.0000,\n",
              "           0.0000, 0.0000, 0.0000, 0.0000, 0.0000, 0.3176, 0.9412, 0.9922,\n",
              "           0.9922, 0.4667, 0.0980, 0.0000, 0.0000, 0.0000, 0.0000, 0.0000,\n",
              "           0.0000, 0.0000, 0.0000, 0.0000],\n",
              "          [0.0000, 0.0000, 0.0000, 0.0000, 0.0000, 0.0000, 0.0000, 0.0000,\n",
              "           0.0000, 0.0000, 0.0000, 0.0000, 0.0000, 0.0000, 0.1765, 0.7294,\n",
              "           0.9922, 0.9922, 0.5882, 0.1059, 0.0000, 0.0000, 0.0000, 0.0000,\n",
              "           0.0000, 0.0000, 0.0000, 0.0000],\n",
              "          [0.0000, 0.0000, 0.0000, 0.0000, 0.0000, 0.0000, 0.0000, 0.0000,\n",
              "           0.0000, 0.0000, 0.0000, 0.0000, 0.0000, 0.0000, 0.0000, 0.0627,\n",
              "           0.3647, 0.9882, 0.9922, 0.7333, 0.0000, 0.0000, 0.0000, 0.0000,\n",
              "           0.0000, 0.0000, 0.0000, 0.0000],\n",
              "          [0.0000, 0.0000, 0.0000, 0.0000, 0.0000, 0.0000, 0.0000, 0.0000,\n",
              "           0.0000, 0.0000, 0.0000, 0.0000, 0.0000, 0.0000, 0.0000, 0.0000,\n",
              "           0.0000, 0.9765, 0.9922, 0.9765, 0.2510, 0.0000, 0.0000, 0.0000,\n",
              "           0.0000, 0.0000, 0.0000, 0.0000],\n",
              "          [0.0000, 0.0000, 0.0000, 0.0000, 0.0000, 0.0000, 0.0000, 0.0000,\n",
              "           0.0000, 0.0000, 0.0000, 0.0000, 0.0000, 0.0000, 0.1804, 0.5098,\n",
              "           0.7176, 0.9922, 0.9922, 0.8118, 0.0078, 0.0000, 0.0000, 0.0000,\n",
              "           0.0000, 0.0000, 0.0000, 0.0000],\n",
              "          [0.0000, 0.0000, 0.0000, 0.0000, 0.0000, 0.0000, 0.0000, 0.0000,\n",
              "           0.0000, 0.0000, 0.0000, 0.0000, 0.1529, 0.5804, 0.8980, 0.9922,\n",
              "           0.9922, 0.9922, 0.9804, 0.7137, 0.0000, 0.0000, 0.0000, 0.0000,\n",
              "           0.0000, 0.0000, 0.0000, 0.0000],\n",
              "          [0.0000, 0.0000, 0.0000, 0.0000, 0.0000, 0.0000, 0.0000, 0.0000,\n",
              "           0.0000, 0.0000, 0.0941, 0.4471, 0.8667, 0.9922, 0.9922, 0.9922,\n",
              "           0.9922, 0.7882, 0.3059, 0.0000, 0.0000, 0.0000, 0.0000, 0.0000,\n",
              "           0.0000, 0.0000, 0.0000, 0.0000],\n",
              "          [0.0000, 0.0000, 0.0000, 0.0000, 0.0000, 0.0000, 0.0000, 0.0000,\n",
              "           0.0902, 0.2588, 0.8353, 0.9922, 0.9922, 0.9922, 0.9922, 0.7765,\n",
              "           0.3176, 0.0078, 0.0000, 0.0000, 0.0000, 0.0000, 0.0000, 0.0000,\n",
              "           0.0000, 0.0000, 0.0000, 0.0000],\n",
              "          [0.0000, 0.0000, 0.0000, 0.0000, 0.0000, 0.0000, 0.0706, 0.6706,\n",
              "           0.8588, 0.9922, 0.9922, 0.9922, 0.9922, 0.7647, 0.3137, 0.0353,\n",
              "           0.0000, 0.0000, 0.0000, 0.0000, 0.0000, 0.0000, 0.0000, 0.0000,\n",
              "           0.0000, 0.0000, 0.0000, 0.0000],\n",
              "          [0.0000, 0.0000, 0.0000, 0.0000, 0.2157, 0.6745, 0.8863, 0.9922,\n",
              "           0.9922, 0.9922, 0.9922, 0.9569, 0.5216, 0.0431, 0.0000, 0.0000,\n",
              "           0.0000, 0.0000, 0.0000, 0.0000, 0.0000, 0.0000, 0.0000, 0.0000,\n",
              "           0.0000, 0.0000, 0.0000, 0.0000],\n",
              "          [0.0000, 0.0000, 0.0000, 0.0000, 0.5333, 0.9922, 0.9922, 0.9922,\n",
              "           0.8314, 0.5294, 0.5176, 0.0627, 0.0000, 0.0000, 0.0000, 0.0000,\n",
              "           0.0000, 0.0000, 0.0000, 0.0000, 0.0000, 0.0000, 0.0000, 0.0000,\n",
              "           0.0000, 0.0000, 0.0000, 0.0000],\n",
              "          [0.0000, 0.0000, 0.0000, 0.0000, 0.0000, 0.0000, 0.0000, 0.0000,\n",
              "           0.0000, 0.0000, 0.0000, 0.0000, 0.0000, 0.0000, 0.0000, 0.0000,\n",
              "           0.0000, 0.0000, 0.0000, 0.0000, 0.0000, 0.0000, 0.0000, 0.0000,\n",
              "           0.0000, 0.0000, 0.0000, 0.0000],\n",
              "          [0.0000, 0.0000, 0.0000, 0.0000, 0.0000, 0.0000, 0.0000, 0.0000,\n",
              "           0.0000, 0.0000, 0.0000, 0.0000, 0.0000, 0.0000, 0.0000, 0.0000,\n",
              "           0.0000, 0.0000, 0.0000, 0.0000, 0.0000, 0.0000, 0.0000, 0.0000,\n",
              "           0.0000, 0.0000, 0.0000, 0.0000],\n",
              "          [0.0000, 0.0000, 0.0000, 0.0000, 0.0000, 0.0000, 0.0000, 0.0000,\n",
              "           0.0000, 0.0000, 0.0000, 0.0000, 0.0000, 0.0000, 0.0000, 0.0000,\n",
              "           0.0000, 0.0000, 0.0000, 0.0000, 0.0000, 0.0000, 0.0000, 0.0000,\n",
              "           0.0000, 0.0000, 0.0000, 0.0000]]]),\n",
              " 5)"
            ]
          },
          "metadata": {},
          "execution_count": 34
        }
      ]
    },
    {
      "cell_type": "markdown",
      "source": [
        "Note: As is clear the first element has 28 X 28 data that some of them are 0 and some other have values between 0 to 1. The next element is the label of the picture. In this case it is 5."
      ],
      "metadata": {
        "id": "5Cs14LPTINrv"
      }
    },
    {
      "cell_type": "code",
      "source": [
        "type(train_data[0])"
      ],
      "metadata": {
        "colab": {
          "base_uri": "https://localhost:8080/"
        },
        "id": "dy1GwetUIlEb",
        "outputId": "364c9027-9e0a-46f5-8f21-b4135bba7d2a"
      },
      "execution_count": 35,
      "outputs": [
        {
          "output_type": "execute_result",
          "data": {
            "text/plain": [
              "tuple"
            ]
          },
          "metadata": {},
          "execution_count": 35
        }
      ]
    },
    {
      "cell_type": "code",
      "source": [
        "image, label=train_data[0]"
      ],
      "metadata": {
        "id": "3KOmSolWILXE"
      },
      "execution_count": 36,
      "outputs": []
    },
    {
      "cell_type": "code",
      "source": [
        "image.shape"
      ],
      "metadata": {
        "colab": {
          "base_uri": "https://localhost:8080/"
        },
        "id": "D5ek69wSIroP",
        "outputId": "4fd5fa45-3a8a-4de2-b9ab-7b771b879f40"
      },
      "execution_count": 37,
      "outputs": [
        {
          "output_type": "execute_result",
          "data": {
            "text/plain": [
              "torch.Size([1, 28, 28])"
            ]
          },
          "metadata": {},
          "execution_count": 37
        }
      ]
    },
    {
      "cell_type": "markdown",
      "source": [
        "As is clear it is 28 X 28. The 1 is for the color. Mnist only has 1 channel for the color."
      ],
      "metadata": {
        "id": "FoBvUvK3IvLd"
      }
    },
    {
      "cell_type": "code",
      "source": [
        "label"
      ],
      "metadata": {
        "colab": {
          "base_uri": "https://localhost:8080/"
        },
        "id": "9Ib5vCiwItHp",
        "outputId": "7f8adf0f-e01e-4aae-ae8e-ec7cdb882330"
      },
      "execution_count": 38,
      "outputs": [
        {
          "output_type": "execute_result",
          "data": {
            "text/plain": [
              "5"
            ]
          },
          "metadata": {},
          "execution_count": 38
        }
      ]
    },
    {
      "cell_type": "markdown",
      "source": [
        "Note: to show the image by plt.imshow() we need the image just be on a 28X28 without the color channels"
      ],
      "metadata": {
        "id": "fa3ASVR4JC2v"
      }
    },
    {
      "cell_type": "code",
      "source": [
        "plt.imshow(image.reshape(28,28))"
      ],
      "metadata": {
        "colab": {
          "base_uri": "https://localhost:8080/",
          "height": 448
        },
        "id": "ohFZc84NI-iV",
        "outputId": "38faa1cd-389f-41b2-f81b-29f0a3de30d6"
      },
      "execution_count": 39,
      "outputs": [
        {
          "output_type": "execute_result",
          "data": {
            "text/plain": [
              "<matplotlib.image.AxesImage at 0x79c8af7557b0>"
            ]
          },
          "metadata": {},
          "execution_count": 39
        },
        {
          "output_type": "display_data",
          "data": {
            "text/plain": [
              "<Figure size 640x480 with 1 Axes>"
            ],
            "image/png": "[encoded data removed]"
          },
          "metadata": {}
        }
      ]
    },
    {
      "cell_type": "markdown",
      "source": [
        "**How to load baches in to the dataloader**"
      ],
      "metadata": {
        "id": "gvBH8eLcJtZ7"
      }
    },
    {
      "cell_type": "markdown",
      "source": [
        "We have 60000 data for training the machine. we can send the data with batches.\n",
        "\n",
        "By dividing the data into smaller batches, the neural network can process the data more quickly and make better use of its computational resources. This can significantly reduce the time it takes to train the network."
      ],
      "metadata": {
        "id": "dRW_ImiCJ5KX"
      }
    },
    {
      "cell_type": "code",
      "source": [
        "torch.manual_seed(101)\n",
        "#have the same shuffling\n",
        "\n",
        "train_loader=DataLoader(train_data, batch_size=100, shuffle=True)\n",
        "#Sometimes the data set is sorted so we would shuffle to have a general dataset.\n",
        "\n",
        "test_loader=DataLoader(test_data, batch_size=500, shuffle=False)"
      ],
      "metadata": {
        "id": "W0n-ts0eJRgg"
      },
      "execution_count": 40,
      "outputs": []
    },
    {
      "cell_type": "markdown",
      "source": [
        "**Create a Model**"
      ],
      "metadata": {
        "id": "ImVZEjYxSZIB"
      }
    },
    {
      "cell_type": "code",
      "source": [
        "class MultilayerPerceptron(nn.Module):\n",
        "  def __init__(self,in_sz=28*28, out_sz=10, layers=[120,84]):\n",
        "    super().__init__()\n",
        "    self.fc1=nn.Linear(in_sz, layers[0])\n",
        "    self.fc2=nn.Linear(layers[0],layers[1])\n",
        "    self.fc3=nn.Linear(layers[1],out_sz)\n",
        "\n",
        "  def forward(self,X):\n",
        "    X=f.relu(self.fc1(X))\n",
        "    X=f.relu(self.fc2(X))\n",
        "    X=self.fc3(X)\n",
        "\n",
        "    return f.log_softmax(X,dim=1) #multi class classification\n",
        "\n",
        "\n"
      ],
      "metadata": {
        "id": "G2aBkhiMMRlk"
      },
      "execution_count": 41,
      "outputs": []
    },
    {
      "cell_type": "markdown",
      "source": [
        "class MultilayerPerceptron:\n",
        "\n",
        "This line defines a new class (a template or blueprint for creating objects). The name MultilayerPerceptron is the name you’re giving to this blueprint. You can create multiple instances (individual neural networks) based on this blueprint.\n",
        "(nn.Module):\n",
        "\n",
        "The nn.Module part means that the MultilayerPerceptron class is a special kind of class that inherits from PyTorch’s nn.Module class.\n",
        "nn.Module is a base class for all neural network modules in PyTorch. It provides a lot of functionality that is useful for building and training neural networks, such as methods for defining layers, handling weights, and passing data through the network."
      ],
      "metadata": {
        "id": "eadm_sX3VW9n"
      }
    },
    {
      "cell_type": "markdown",
      "source": [
        "__init__:\n",
        "\n",
        "This line defines a special method called __init__. It runs when you create an instance of your MultilayerPerceptron class.\n",
        "\n",
        "in_sz=28*28: This sets the size of the input (e.g., an image with 28x28 pixels, like in the MNIST dataset).\n",
        "\n",
        "\n",
        "out_sz=10: This sets the number of output classes (e.g., 10 digits: 0-9).\n",
        "layers=[120, 84]: This is a list that specifies the sizes of two hidden layers in the network.\n",
        "\n",
        "\n",
        "Analogy: When you create your robot, you decide it will handle images of a certain size, recognize a certain number of objects, and have a specific number of parts (layers) to process the information."
      ],
      "metadata": {
        "id": "RyG5ql0OVnJU"
      }
    },
    {
      "cell_type": "markdown",
      "source": [
        "super().__init__()\n",
        "\n",
        "This line calls the __init__ method of the parent class nn.Module. It ensures that the robot is set up correctly according to the basic blueprint provided by nn.Module.\n",
        "\n",
        "\n",
        "Analogy: You are telling your robot to inherit all the basic functionalities of other robots of its kind, just like inheriting traits from your parents."
      ],
      "metadata": {
        "id": "ANtiMMkoWBhr"
      }
    },
    {
      "cell_type": "markdown",
      "source": [
        " Defining the First Layer: self.fc1 = nn.Linear(in_sz, layers[0])\n",
        "\n",
        " This line creates the first fully connected layer, which takes the input (e.g., an image) and outputs to the first hidden layer with 120 neurons.\n",
        "\n",
        "\n",
        "Analogy: Imagine the first part of the robot’s brain that processes the input signals (like vision) and passes the processed information to the next part.\n",
        "\n"
      ],
      "metadata": {
        "id": "OHzx86Q8WL3W"
      }
    },
    {
      "cell_type": "markdown",
      "source": [
        "Defining the Second Layer: self.fc2 = nn.Linear(layers[0], layers[1])\n",
        "\n",
        "This line creates the second fully connected layer, which takes the output from the first layer (120 neurons) and passes it to the second hidden layer with 84 neurons.\n",
        "Analogy: The robot processes the information further in another part of its brain, refining the signals to prepare for decision-making."
      ],
      "metadata": {
        "id": "tpYFNbEzWVSw"
      }
    },
    {
      "cell_type": "markdown",
      "source": [
        "Defining the Third (Output) Layer: self.fc3 = nn.Linear(layers[1], out_sz)\n",
        "\n",
        "This line creates the third fully connected layer, which takes the output from the second hidden layer (84 neurons) and produces the final output (10 classes).\n",
        "\n",
        "\n",
        "Analogy: This is the final part of the robot’s brain where it decides what the input was (like deciding which number it saw)."
      ],
      "metadata": {
        "id": "bm50UKLTWc72"
      }
    },
    {
      "cell_type": "markdown",
      "source": [
        "Forward Method Definition: def forward(self, X):\n",
        "\n",
        "This line defines how the data (input) flows through the network (from one layer to another).\n",
        "Analogy: It’s like describing the path information takes as it travels through the robot’s brain."
      ],
      "metadata": {
        "id": "YwGGg6-cWmmn"
      }
    },
    {
      "cell_type": "markdown",
      "source": [
        "First Layer Activation: X = f.relu(self.fc1(X))\n",
        "\n",
        "This line sends the input through the first layer, then applies the ReLU activation function (which adds non-linearity, making the model more powerful).\n",
        "Analogy: The robot processes the input and transforms it to focus only on the most important signals, ignoring weak ones (like ignoring noise in an image)."
      ],
      "metadata": {
        "id": "sTHf6uNcWsny"
      }
    },
    {
      "cell_type": "markdown",
      "source": [
        "Applying Softmax for Multi-Class Classification: return f.log_softmax(X, dim=1)\n",
        "\n",
        "This line applies the log_softmax function to the output. It converts the raw scores into probabilities (between 0 and 1) for each class and takes the logarithm.\n",
        "\n",
        "Analogy: The robot now calculates the chances of its prediction being each possible class (e.g., how confident it is that the image is a \"7\" versus a \"3\").\n"
      ],
      "metadata": {
        "id": "AoG4oyS7W-Kg"
      }
    },
    {
      "cell_type": "code",
      "source": [
        "torch.manual_seed(101)\n",
        "model=MultilayerPerceptron()\n",
        "model"
      ],
      "metadata": {
        "colab": {
          "base_uri": "https://localhost:8080/"
        },
        "id": "o5JThximUpDZ",
        "outputId": "06eda261-bd38-49c2-ed18-670e30d04e9c"
      },
      "execution_count": 42,
      "outputs": [
        {
          "output_type": "execute_result",
          "data": {
            "text/plain": [
              "MultilayerPerceptron(\n",
              "  (fc1): Linear(in_features=784, out_features=120, bias=True)\n",
              "  (fc2): Linear(in_features=120, out_features=84, bias=True)\n",
              "  (fc3): Linear(in_features=84, out_features=10, bias=True)\n",
              ")"
            ]
          },
          "metadata": {},
          "execution_count": 42
        }
      ]
    },
    {
      "cell_type": "code",
      "source": [
        "criterion=nn.CrossEntropyLoss()"
      ],
      "metadata": {
        "id": "JIGc_zd9Xsi-"
      },
      "execution_count": 43,
      "outputs": []
    },
    {
      "cell_type": "code",
      "source": [
        "optimizer=torch.optim.Adam(model.parameters(),lr=0.001 )"
      ],
      "metadata": {
        "id": "KAXjRrO4YMsp"
      },
      "execution_count": 44,
      "outputs": []
    },
    {
      "cell_type": "markdown",
      "source": [
        "**Enumerate()**"
      ],
      "metadata": {
        "id": "r8sCalBTVMMT"
      }
    },
    {
      "cell_type": "markdown",
      "source": [
        "You can use enumerate() in a loop in almost the same way that you use the original iterable object. Instead of putting the iterable directly after in in the for loop, you put it inside the parentheses of enumerate()."
      ],
      "metadata": {
        "id": "ig1kQ3aZVIQK"
      }
    },
    {
      "cell_type": "markdown",
      "source": [
        "When you use enumerate(), the function gives you back two loop variables:\n",
        "\n",
        "The count of the current iteration\n",
        "The value of the item at the current iteration\n",
        "Just like with a normal for loop, the loop variables can be named whatever you want them to be named. You use count and value in this example, but they could be named i and v or any other valid Python names."
      ],
      "metadata": {
        "id": "RN-ULqPsVSGd"
      }
    },
    {
      "cell_type": "code",
      "source": [
        "list=['a','d','f']\n",
        "for c,d in enumerate(list):\n",
        "  print(c,d)"
      ],
      "metadata": {
        "colab": {
          "base_uri": "https://localhost:8080/"
        },
        "id": "zDxAGJZCUxd3",
        "outputId": "401ce1f0-8b38-44c4-e0b5-e86305337894"
      },
      "execution_count": 45,
      "outputs": [
        {
          "output_type": "stream",
          "name": "stdout",
          "text": [
            "0 a\n",
            "1 d\n",
            "2 f\n"
          ]
        }
      ]
    },
    {
      "cell_type": "markdown",
      "source": [
        "**Data Flatenning to be used in ANN**\n",
        "\n",
        "With .view()\n"
      ],
      "metadata": {
        "id": "m-Uj046XYnmS"
      }
    },
    {
      "cell_type": "markdown",
      "source": [
        "**Model Training**"
      ],
      "metadata": {
        "id": "KRVMfwJdPeje"
      }
    },
    {
      "cell_type": "code",
      "source": [
        "import time\n",
        "start_time=time.time()\n",
        "\n",
        "#training\n",
        "epochs=5\n",
        "trn_corr=0\n",
        "tst_corr=0\n",
        "\n",
        "\n",
        "#trackers\n",
        "train_losses=[]\n",
        "test_losses=[]\n",
        "train_correct=[]\n",
        "test_correct=[]\n",
        "\n",
        "for i in range(epochs):\n",
        "    trn_corr = 0\n",
        "    tst_corr = 0\n",
        "\n",
        "    for b, (X_train, y_train) in enumerate(train_loader):\n",
        "      b=b+1 #start at 0 so we add 1 to start at 1\n",
        "      y_pred=model(X_train.view(100,-1))\n",
        "      #view(number of the batches,-1) would flatten the data\n",
        "      loss=criterion(y_pred,y_train)\n",
        "      predicted=torch.max(y_pred.data,1)[1]\n",
        "      # in the last layer we have 10 neurons. each neuron would return a possibility of that class. Maybe it is [0.1,0.4,....,0.8].\n",
        "      #the above code would get the all neurons values on axis 1 and sort them and return the one that has max value\n",
        "\n",
        "      batch_corr=(predicted==y_train).sum()\n",
        "      #how many of the the batch is equall to y_train. .sum() would make the summation!\n",
        "      trn_corr= batch_corr + trn_corr\n",
        "\n",
        "      optimizer.zero_grad()\n",
        "      #The line optimizer.zero_grad() is used to reset the gradients of all the model parameters to zero before starting the backpropagation step during training.\n",
        "      loss.backward()\n",
        "      #loss.backward() is the PyTorch function that performs the backpropagation step.\n",
        "      #It computes the gradients of the loss function with respect to the model parameters (weights and biases)\n",
        "      optimizer.step()\n",
        "      #The optimizer.step() is responsible for updating the model's parameters (weights and biases)\n",
        "      #based on the gradients that were calculated during backpropagation (loss.backward()).\n",
        "\n",
        "      if b%200==0:\n",
        "        accuracy=trn_corr.item()*100/(100*b)\n",
        "        print(f\"Epoch {i} batch {b} loss: {loss.item()} accuaracy:{accuracy} \")\n",
        "\n",
        "    train_losses.append(loss.item())\n",
        "    train_correct.append(trn_corr)\n",
        "\n",
        "#for test set we do not update the biasis thus we uswd with\n",
        "    with torch.no_grad():\n",
        "      for b,(x_test,y_test) in enumerate(test_loader):\n",
        "        y_val=model(x_test.view(500,-1))\n",
        "        predicted=torch.max(y_val.data,1)[1]\n",
        "        tst_corr += (predicted == y_test).sum()\n",
        "\n",
        "    loss=criterion(y_val,y_test)\n",
        "    test_losses.append(loss.item())\n",
        "    test_correct.append(tst_corr)\n",
        "\n",
        "\n",
        "\n",
        "\n",
        "\n",
        "\n",
        "\n",
        "\n",
        "\n",
        "\n",
        "\n",
        "\n",
        "total_time=time.time()-start_time\n",
        "print(f'Duration={total_time/60} mins.')\n"
      ],
      "metadata": {
        "id": "0Tefq349ZLqK",
        "colab": {
          "base_uri": "https://localhost:8080/"
        },
        "outputId": "730996c9-ee42-42c8-f450-7b0de279b84e"
      },
      "execution_count": 80,
      "outputs": [
        {
          "output_type": "stream",
          "name": "stdout",
          "text": [
            "Epoch 0 batch 200 loss: 0.0041855014860630035 accuaracy:99.865 \n",
            "Epoch 0 batch 400 loss: 0.0004492668667808175 accuaracy:99.8775 \n",
            "Epoch 0 batch 600 loss: 0.000100398225185927 accuaracy:99.90166666666667 \n",
            "Epoch 1 batch 200 loss: 0.00046749896137043834 accuaracy:99.985 \n",
            "Epoch 1 batch 400 loss: 0.00010309964272892103 accuaracy:99.9925 \n",
            "Epoch 1 batch 600 loss: 0.0005839566001668572 accuaracy:99.98333333333333 \n",
            "Epoch 2 batch 200 loss: 0.000259574968367815 accuaracy:99.99 \n",
            "Epoch 2 batch 400 loss: 0.00038646903703920543 accuaracy:99.9925 \n",
            "Epoch 2 batch 600 loss: 0.00010577761713648215 accuaracy:99.98666666666666 \n",
            "Epoch 3 batch 200 loss: 0.051677051931619644 accuaracy:99.345 \n",
            "Epoch 3 batch 400 loss: 0.03776058554649353 accuaracy:99.435 \n",
            "Epoch 3 batch 600 loss: 0.0016614481573924422 accuaracy:99.52333333333333 \n",
            "Epoch 4 batch 200 loss: 0.01373355183750391 accuaracy:99.905 \n",
            "Epoch 4 batch 400 loss: 2.6240018996759318e-05 accuaracy:99.9025 \n",
            "Epoch 4 batch 600 loss: 0.008246185258030891 accuaracy:99.905 \n",
            "Duration=1.0707340995470682 mins.\n"
          ]
        }
      ]
    },
    {
      "cell_type": "markdown",
      "source": [
        "Note:The .sum() function in PyTorch adds up all the values in a tensor. Think of it like a calculator that totals everything in a list.\n",
        "\n",
        "In the code you shared, batch_corr=(predicted==y_train).sum():\n",
        "\n",
        "predicted==y_train: This checks if the predicted labels (from your model) match the actual labels (the correct answers). If they match, it returns True; otherwise, it returns False. In Python, True is treated as 1, and False as 0.\n",
        "\n",
        "Example: If predicted is [1, 2, 3] and y_train is [1, 2, 0], then predicted == y_train gives [True, True, False], which is [1, 1, 0].\n",
        ".sum(): This adds up all the 1s in the tensor from the previous step.\n",
        "\n",
        "Example: For [1, 1, 0], .sum() would give 1 + 1 + 0 = 2."
      ],
      "metadata": {
        "id": "htVlOlYbp60_"
      }
    },
    {
      "cell_type": "markdown",
      "source": [
        "The line optimizer.zero_grad() is used to reset the gradients of all the model parameters to zero before starting the backpropagation step during training."
      ],
      "metadata": {
        "id": "cYGIf2UFMsxN"
      }
    },
    {
      "cell_type": "markdown",
      "source": [
        "**backpropagation**\n",
        "\n",
        "\n",
        "Backpropagation (short for \"backward propagation of errors\") is a key algorithm used to train neural networks. It allows the network to learn by adjusting its weights based on the error (difference between predicted output and actual output). Here's how it works:\n",
        "\n",
        "Steps of Backpropagation:\n",
        "\n",
        "\n",
        "Forward Pass:\n",
        "\n",
        "The input data is passed through the neural network layer by layer.\n",
        "Each layer performs calculations and applies an activation function to pass data to the next layer until a final output (prediction) is produced.\n",
        "Calculate Loss:\n",
        "\n",
        "The difference (error) between the predicted output and the actual output (ground truth) is calculated using a loss function (like Mean Squared Error or Cross-Entropy Loss).\n",
        "\n",
        "\n",
        "Backward Pass (Gradient Calculation):\n",
        "\n",
        "The goal is to minimize the loss by adjusting the weights. To do this, we calculate the gradient of the loss function with respect to each weight in the network using the chain rule from calculus.\n",
        "This gradient tells us how much the loss would change if we tweak each weight slightly.\n",
        "\n",
        "\n",
        "Weight Update:\n",
        "\n",
        "Once the gradients are calculated, they are used to update the weights in the direction that reduces the loss.\n",
        "The update is usually performed using an optimization algorithm like Stochastic Gradient Descent (SGD) or Adam, which adjusts the weights based on the gradient and a learning rate."
      ],
      "metadata": {
        "id": "sMqo6b3yNHu4"
      }
    },
    {
      "cell_type": "markdown",
      "source": [
        "**Gradian**\n",
        "\n",
        "\n",
        "A gradient in machine learning, particularly in deep learning, is a concept borrowed from calculus. It measures how much a function's output changes if we change its inputs slightly. In the context of training neural networks, the gradient tells us how much the loss (or error) would change if we adjust the model's weights and biases."
      ],
      "metadata": {
        "id": "Z42eOkuIO1zX"
      }
    },
    {
      "cell_type": "markdown",
      "source": [
        "**Evaluation**"
      ],
      "metadata": {
        "id": "27nD98F3dNCD"
      }
    },
    {
      "cell_type": "code",
      "source": [
        "plt.plot(train_losses, label='Training Loss')\n",
        "plt.plot(test_losses, label='Test Loss')\n",
        "plt.legend()"
      ],
      "metadata": {
        "id": "ge1I1i8-QbM0",
        "outputId": "6b8d8b9a-8be6-4707-caa3-ae9f0b747188",
        "colab": {
          "base_uri": "https://localhost:8080/",
          "height": 448
        }
      },
      "execution_count": 81,
      "outputs": [
        {
          "output_type": "execute_result",
          "data": {
            "text/plain": [
              "<matplotlib.legend.Legend at 0x79c8ab949150>"
            ]
          },
          "metadata": {},
          "execution_count": 81
        },
        {
          "output_type": "display_data",
          "data": {
            "text/plain": [
              "<Figure size 640x480 with 1 Axes>"
            ],
            "image/png": "[encoded data removed]"
          },
          "metadata": {}
        }
      ]
    },
    {
      "cell_type": "code",
      "source": [
        "train_correct[0]"
      ],
      "metadata": {
        "id": "2IK3x6j1daDp",
        "outputId": "89c55a60-5bf8-4cc4-b959-dcc1a7c112ab",
        "colab": {
          "base_uri": "https://localhost:8080/"
        }
      },
      "execution_count": 82,
      "outputs": [
        {
          "output_type": "execute_result",
          "data": {
            "text/plain": [
              "tensor(59941)"
            ]
          },
          "metadata": {},
          "execution_count": 82
        }
      ]
    },
    {
      "cell_type": "code",
      "source": [
        "train_correct[0]/600"
      ],
      "metadata": {
        "id": "csghM8W5f_vW",
        "outputId": "d39b8d4b-59c5-476d-c1e7-6b1a09cd9392",
        "colab": {
          "base_uri": "https://localhost:8080/"
        }
      },
      "execution_count": 83,
      "outputs": [
        {
          "output_type": "execute_result",
          "data": {
            "text/plain": [
              "tensor(99.9017)"
            ]
          },
          "metadata": {},
          "execution_count": 83
        }
      ]
    },
    {
      "cell_type": "code",
      "source": [
        "#make a list\n",
        "train_accuracy=[t/600 for t in train_correct]"
      ],
      "metadata": {
        "id": "gE3eLFG_gFk4"
      },
      "execution_count": 84,
      "outputs": []
    },
    {
      "cell_type": "code",
      "source": [
        "train_accuracy"
      ],
      "metadata": {
        "id": "dyK66iIQgX4S",
        "outputId": "37bd616c-004f-492e-8202-f591a2b94364",
        "colab": {
          "base_uri": "https://localhost:8080/"
        }
      },
      "execution_count": 85,
      "outputs": [
        {
          "output_type": "execute_result",
          "data": {
            "text/plain": [
              "[tensor(99.9017),\n",
              " tensor(99.9833),\n",
              " tensor(99.9867),\n",
              " tensor(99.5233),\n",
              " tensor(99.9050)]"
            ]
          },
          "metadata": {},
          "execution_count": 85
        }
      ]
    },
    {
      "cell_type": "code",
      "source": [
        "test_correct"
      ],
      "metadata": {
        "id": "_K6Jmvprg7kH",
        "outputId": "9760ad1e-a1d3-427c-b1ca-7b1e60b73e70",
        "colab": {
          "base_uri": "https://localhost:8080/"
        }
      },
      "execution_count": 86,
      "outputs": [
        {
          "output_type": "execute_result",
          "data": {
            "text/plain": [
              "[tensor(9794), tensor(9802), tensor(9807), tensor(9779), tensor(9784)]"
            ]
          },
          "metadata": {},
          "execution_count": 86
        }
      ]
    },
    {
      "cell_type": "code",
      "source": [
        "test_accuracy=[t/100 for t in test_correct]"
      ],
      "metadata": {
        "id": "8k3_8omXgjqE"
      },
      "execution_count": 87,
      "outputs": []
    },
    {
      "cell_type": "code",
      "source": [
        "plt.plot(train_accuracy, label='Training Acc')\n",
        "plt.plot(test_accuracy, label='Test Acc')\n",
        "plt.legend()"
      ],
      "metadata": {
        "id": "HylQkc2ngt4j",
        "outputId": "d3a9e3fd-8c6f-4e31-9da0-eb4cf2b81928",
        "colab": {
          "base_uri": "https://localhost:8080/",
          "height": 448
        }
      },
      "execution_count": 88,
      "outputs": [
        {
          "output_type": "execute_result",
          "data": {
            "text/plain": [
              "<matplotlib.legend.Legend at 0x79c8b2347850>"
            ]
          },
          "metadata": {},
          "execution_count": 88
        },
        {
          "output_type": "display_data",
          "data": {
            "text/plain": [
              "<Figure size 640x480 with 1 Axes>"
            ],
            "image/png": "[encoded data removed]"
          },
          "metadata": {}
        }
      ]
    },
    {
      "cell_type": "markdown",
      "source": [
        "**Test for unseen data**"
      ],
      "metadata": {
        "id": "dvEDPjG_iwka"
      }
    },
    {
      "cell_type": "code",
      "source": [
        "test_load_all=DataLoader(test_data,batch_size=10000, shuffle=False)"
      ],
      "metadata": {
        "id": "B2kfKyLuiNDI"
      },
      "execution_count": 90,
      "outputs": []
    },
    {
      "cell_type": "code",
      "source": [
        "with torch.no_grad():\n",
        "  correct=0\n",
        "  for x_text, y_test in test_load_all:\n",
        "    y_val=model(x_test.view(len(x_test),-1))\n",
        "    print(y_val.shape)\n",
        "    predicted=torch.max(y_val,1)[1]\n",
        "    print(predicted.shape)\n",
        "    (predicted==y_val).sum()"
      ],
      "metadata": {
        "id": "SMIG1QrIjG9R",
        "outputId": "76292402-0d4c-4935-8927-06e77c53b41b",
        "colab": {
          "base_uri": "https://localhost:8080/",
          "height": 218
        }
      },
      "execution_count": 97,
      "outputs": [
        {
          "output_type": "stream",
          "name": "stdout",
          "text": [
            "torch.Size([500, 10])\n",
            "torch.Size([500])\n"
          ]
        },
        {
          "output_type": "error",
          "ename": "RuntimeError",
          "evalue": "The size of tensor a (500) must match the size of tensor b (10) at non-singleton dimension 1",
          "traceback": [
            "\u001b[0;31m---------------------------------------------------------------------------\u001b[0m",
            "\u001b[0;31mRuntimeError\u001b[0m                              Traceback (most recent call last)",
            "\u001b[0;32m<ipython-input-97-b171227e5f12>\u001b[0m in \u001b[0;36m<cell line: 1>\u001b[0;34m()\u001b[0m\n\u001b[1;32m      6\u001b[0m     \u001b[0mpredicted\u001b[0m\u001b[0;34m=\u001b[0m\u001b[0mtorch\u001b[0m\u001b[0;34m.\u001b[0m\u001b[0mmax\u001b[0m\u001b[0;34m(\u001b[0m\u001b[0my_val\u001b[0m\u001b[0;34m,\u001b[0m\u001b[0;36m1\u001b[0m\u001b[0;34m)\u001b[0m\u001b[0;34m[\u001b[0m\u001b[0;36m1\u001b[0m\u001b[0;34m]\u001b[0m\u001b[0;34m\u001b[0m\u001b[0;34m\u001b[0m\u001b[0m\n\u001b[1;32m      7\u001b[0m     \u001b[0mprint\u001b[0m\u001b[0;34m(\u001b[0m\u001b[0mpredicted\u001b[0m\u001b[0;34m.\u001b[0m\u001b[0mshape\u001b[0m\u001b[0;34m)\u001b[0m\u001b[0;34m\u001b[0m\u001b[0;34m\u001b[0m\u001b[0m\n\u001b[0;32m----> 8\u001b[0;31m     \u001b[0;34m(\u001b[0m\u001b[0mpredicted\u001b[0m\u001b[0;34m==\u001b[0m\u001b[0my_val\u001b[0m\u001b[0;34m)\u001b[0m\u001b[0;34m.\u001b[0m\u001b[0msum\u001b[0m\u001b[0;34m(\u001b[0m\u001b[0;34m)\u001b[0m\u001b[0;34m\u001b[0m\u001b[0;34m\u001b[0m\u001b[0m\n\u001b[0m",
            "\u001b[0;31mRuntimeError\u001b[0m: The size of tensor a (500) must match the size of tensor b (10) at non-singleton dimension 1"
          ]
        }
      ]
    },
    {
      "cell_type": "code",
      "source": [],
      "metadata": {
        "id": "M2wCKduij9W3"
      },
      "execution_count": null,
      "outputs": []
    }
  ]
}