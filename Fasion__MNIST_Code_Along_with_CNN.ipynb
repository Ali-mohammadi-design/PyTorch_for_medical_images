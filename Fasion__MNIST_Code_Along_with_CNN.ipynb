{
  "nbformat": 4,
  "nbformat_minor": 0,
  "metadata": {
    "colab": {
      "provenance": [],
      "authorship_tag": "ABX9TyNZPdbtwS0FydsTxY2V5YHt",
      "include_colab_link": true
    },
    "kernelspec": {
      "name": "python3",
      "display_name": "Python 3"
    },
    "language_info": {
      "name": "python"
    }
  },
  "cells": [
    {
      "cell_type": "markdown",
      "metadata": {
        "id": "view-in-github",
        "colab_type": "text"
      },
      "source": [
        "<a href=\"https://colab.research.google.com/github/Ali-mohammadi-design/PyTorch_for_medical_images/blob/main/Fasion__MNIST_Code_Along_with_CNN.ipynb\" target=\"_parent\"><img src=\"https://colab.research.google.com/assets/colab-badge.svg\" alt=\"Open In Colab\"/></a>"
      ]
    },
    {
      "cell_type": "code",
      "execution_count": 1,
      "metadata": {
        "id": "yWjtOs18KOIj"
      },
      "outputs": [],
      "source": [
        "import torch\n",
        "import torch.nn as nn\n",
        "import torch.nn.functional as F\n",
        "from torch.utils.data import DataLoader\n",
        "from torchvision import datasets, transforms\n",
        "from torchvision.utils import make_grid\n",
        "\n",
        "import numpy as np\n",
        "import pandas as pd\n",
        "from sklearn.metrics import confusion_matrix\n",
        "import matplotlib.pyplot as plt\n",
        "%matplotlib inline"
      ]
    },
    {
      "cell_type": "markdown",
      "source": [
        "Load the MNIST dataset"
      ],
      "metadata": {
        "id": "TsKLPdQOKXJW"
      }
    },
    {
      "cell_type": "code",
      "source": [
        "transform = transforms.ToTensor()\n",
        "\n",
        "train_data = datasets.FashionMNIST(root='../Data', train=True, download=True, transform=transform)\n",
        "test_data = datasets.FashionMNIST(root='../Data', train=False, download=True, transform=transform)"
      ],
      "metadata": {
        "colab": {
          "base_uri": "https://localhost:8080/"
        },
        "id": "f4v3xMMYKTqz",
        "outputId": "af2563d1-762d-4b47-c180-a12d08b73c00"
      },
      "execution_count": 2,
      "outputs": [
        {
          "output_type": "stream",
          "name": "stdout",
          "text": [
            "Downloading http://fashion-mnist.s3-website.eu-central-1.amazonaws.com/train-images-idx3-ubyte.gz\n",
            "Downloading http://fashion-mnist.s3-website.eu-central-1.amazonaws.com/train-images-idx3-ubyte.gz to ../Data/FashionMNIST/raw/train-images-idx3-ubyte.gz\n"
          ]
        },
        {
          "output_type": "stream",
          "name": "stderr",
          "text": [
            "100%|██████████| 26421880/26421880 [00:05<00:00, 4914620.17it/s]\n"
          ]
        },
        {
          "output_type": "stream",
          "name": "stdout",
          "text": [
            "Extracting ../Data/FashionMNIST/raw/train-images-idx3-ubyte.gz to ../Data/FashionMNIST/raw\n",
            "\n",
            "Downloading http://fashion-mnist.s3-website.eu-central-1.amazonaws.com/train-labels-idx1-ubyte.gz\n",
            "Downloading http://fashion-mnist.s3-website.eu-central-1.amazonaws.com/train-labels-idx1-ubyte.gz to ../Data/FashionMNIST/raw/train-labels-idx1-ubyte.gz\n"
          ]
        },
        {
          "output_type": "stream",
          "name": "stderr",
          "text": [
            "100%|██████████| 29515/29515 [00:00<00:00, 204072.52it/s]\n"
          ]
        },
        {
          "output_type": "stream",
          "name": "stdout",
          "text": [
            "Extracting ../Data/FashionMNIST/raw/train-labels-idx1-ubyte.gz to ../Data/FashionMNIST/raw\n",
            "\n",
            "Downloading http://fashion-mnist.s3-website.eu-central-1.amazonaws.com/t10k-images-idx3-ubyte.gz\n",
            "Downloading http://fashion-mnist.s3-website.eu-central-1.amazonaws.com/t10k-images-idx3-ubyte.gz to ../Data/FashionMNIST/raw/t10k-images-idx3-ubyte.gz\n"
          ]
        },
        {
          "output_type": "stream",
          "name": "stderr",
          "text": [
            "100%|██████████| 4422102/4422102 [00:05<00:00, 785008.17it/s] \n"
          ]
        },
        {
          "output_type": "stream",
          "name": "stdout",
          "text": [
            "Extracting ../Data/FashionMNIST/raw/t10k-images-idx3-ubyte.gz to ../Data/FashionMNIST/raw\n",
            "\n",
            "Downloading http://fashion-mnist.s3-website.eu-central-1.amazonaws.com/t10k-labels-idx1-ubyte.gz\n",
            "Downloading http://fashion-mnist.s3-website.eu-central-1.amazonaws.com/t10k-labels-idx1-ubyte.gz to ../Data/FashionMNIST/raw/t10k-labels-idx1-ubyte.gz\n"
          ]
        },
        {
          "output_type": "stream",
          "name": "stderr",
          "text": [
            "100%|██████████| 5148/5148 [00:00<00:00, 4943286.86it/s]"
          ]
        },
        {
          "output_type": "stream",
          "name": "stdout",
          "text": [
            "Extracting ../Data/FashionMNIST/raw/t10k-labels-idx1-ubyte.gz to ../Data/FashionMNIST/raw\n",
            "\n"
          ]
        },
        {
          "output_type": "stream",
          "name": "stderr",
          "text": [
            "\n"
          ]
        }
      ]
    },
    {
      "cell_type": "code",
      "source": [
        "# Get the first image and its label\n",
        "image, label = train_data[456]\n",
        "\n",
        "# Convert the tensor back to a NumPy array for displaying\n",
        "image = image.numpy()  # Shape will be (C, H, W)\n",
        "\n",
        "# Since Matplotlib expects (H, W, C) format, we need to transpose the dimensions\n",
        "image = image.transpose((1, 2, 0))\n",
        "\n",
        "# Display the image\n",
        "plt.imshow(image.squeeze(), cmap='gray')  # Use cmap='gray' for grayscale images\n",
        "plt.title(f'Label: {label}')\n",
        "plt.axis('off')  # Turn off axis labels\n",
        "plt.show()\n"
      ],
      "metadata": {
        "colab": {
          "base_uri": "https://localhost:8080/",
          "height": 428
        },
        "id": "vn9wp5F-O56T",
        "outputId": "a7273e57-8df3-4ebe-8b12-63e5d6a94269"
      },
      "execution_count": 10,
      "outputs": [
        {
          "output_type": "display_data",
          "data": {
            "text/plain": [
              "<Figure size 640x480 with 1 Axes>"
            ],
            "image/png": "[encoded data removed]"
          },
          "metadata": {}
        }
      ]
    },
    {
      "cell_type": "markdown",
      "source": [
        "**Create loaders**\n",
        "\n",
        "When working with images, we want relatively small batches; a batch size of 4 is not uncommon."
      ],
      "metadata": {
        "id": "idFA9F8xKf2X"
      }
    },
    {
      "cell_type": "code",
      "source": [
        "train_loader = DataLoader(train_data, batch_size=10, shuffle=True)\n",
        "test_loader = DataLoader(test_data, batch_size=10, shuffle=False)"
      ],
      "metadata": {
        "id": "wpEUm3_EKZnx"
      },
      "execution_count": 11,
      "outputs": []
    },
    {
      "cell_type": "code",
      "source": [
        "# Define layers\n",
        "conv1 = nn.Conv2d(1, 6, 3, 1)\n",
        "conv2 = nn.Conv2d(6, 16, 3, 1)"
      ],
      "metadata": {
        "id": "JHU0lFU2KmVk"
      },
      "execution_count": 12,
      "outputs": []
    },
    {
      "cell_type": "code",
      "source": [
        "# Grab the first MNIST record\n",
        "for i, (X_train, y_train) in enumerate(train_data):\n",
        "    break"
      ],
      "metadata": {
        "id": "zg1vVwaCKsKh"
      },
      "execution_count": 13,
      "outputs": []
    },
    {
      "cell_type": "code",
      "source": [
        "x = X_train.view(1,1,28,28)\n",
        "print(x.shape)"
      ],
      "metadata": {
        "colab": {
          "base_uri": "https://localhost:8080/"
        },
        "id": "R5h68TDEKt-f",
        "outputId": "f0dc0c39-0ba9-4bbb-9041-8c0a39b423ac"
      },
      "execution_count": 14,
      "outputs": [
        {
          "output_type": "stream",
          "name": "stdout",
          "text": [
            "torch.Size([1, 1, 28, 28])\n"
          ]
        }
      ]
    },
    {
      "cell_type": "code",
      "source": [
        "# Perform the first convolution/activation\n",
        "x = F.relu(conv1(x))\n",
        "print(x.shape)"
      ],
      "metadata": {
        "colab": {
          "base_uri": "https://localhost:8080/"
        },
        "id": "dKKEPm5QKwLJ",
        "outputId": "99571d12-b0f1-4ae6-bb81-2b2ed1220979"
      },
      "execution_count": 15,
      "outputs": [
        {
          "output_type": "stream",
          "name": "stdout",
          "text": [
            "torch.Size([1, 6, 26, 26])\n"
          ]
        }
      ]
    },
    {
      "cell_type": "code",
      "source": [
        "# Run the first pooling layer\n",
        "x = F.max_pool2d(x, 2, 2)\n",
        "print(x.shape)"
      ],
      "metadata": {
        "colab": {
          "base_uri": "https://localhost:8080/"
        },
        "id": "kR6tz2VaK0AA",
        "outputId": "5d12825d-019c-47df-8205-d522e30c6919"
      },
      "execution_count": 16,
      "outputs": [
        {
          "output_type": "stream",
          "name": "stdout",
          "text": [
            "torch.Size([1, 6, 13, 13])\n"
          ]
        }
      ]
    },
    {
      "cell_type": "code",
      "source": [
        "# Perform the second convolution/activation\n",
        "x = F.relu(conv2(x))\n",
        "print(x.shape)"
      ],
      "metadata": {
        "colab": {
          "base_uri": "https://localhost:8080/"
        },
        "id": "dPPDcK3dK1xC",
        "outputId": "6a24c89c-c5a1-4388-c182-12f70243a9fa"
      },
      "execution_count": 17,
      "outputs": [
        {
          "output_type": "stream",
          "name": "stdout",
          "text": [
            "torch.Size([1, 16, 11, 11])\n"
          ]
        }
      ]
    },
    {
      "cell_type": "code",
      "source": [
        "# Run the second pooling layer\n",
        "x = F.max_pool2d(x, 2, 2)\n",
        "print(x.shape)"
      ],
      "metadata": {
        "colab": {
          "base_uri": "https://localhost:8080/"
        },
        "id": "n47kRMoOK3ZZ",
        "outputId": "c9043b85-116f-4442-ebdd-0b87406b359f"
      },
      "execution_count": 18,
      "outputs": [
        {
          "output_type": "stream",
          "name": "stdout",
          "text": [
            "torch.Size([1, 16, 5, 5])\n"
          ]
        }
      ]
    },
    {
      "cell_type": "code",
      "source": [
        "# Flatten the data\n",
        "x = x.view(-1, 5*5*16)\n",
        "print(x.shape)"
      ],
      "metadata": {
        "colab": {
          "base_uri": "https://localhost:8080/"
        },
        "id": "xFcsQNjiK70K",
        "outputId": "bba9a013-1478-4ce1-b500-602be72d1bf1"
      },
      "execution_count": 19,
      "outputs": [
        {
          "output_type": "stream",
          "name": "stdout",
          "text": [
            "torch.Size([1, 400])\n"
          ]
        }
      ]
    },
    {
      "cell_type": "markdown",
      "source": [
        "**This is how the convolution output is passed into the fully connected layers.**\n",
        "\n",
        "\n",
        "Now let's run the code."
      ],
      "metadata": {
        "id": "ovYGI35xLA4n"
      }
    },
    {
      "cell_type": "code",
      "source": [
        "class ConvolutionalNetwork(nn.Module):\n",
        "    def __init__(self):\n",
        "        super().__init__()\n",
        "        self.conv1 = nn.Conv2d(1, 6, 3, 1)\n",
        "        self.conv2 = nn.Conv2d(6, 16, 3, 1)\n",
        "        self.fc1 = nn.Linear(5*5*16, 120)\n",
        "        self.fc2 = nn.Linear(120, 84)\n",
        "        self.fc3 = nn.Linear(84,10)\n",
        "\n",
        "    def forward(self, X):\n",
        "        X = F.relu(self.conv1(X))\n",
        "        X = F.max_pool2d(X, 2, 2)\n",
        "        X = F.relu(self.conv2(X))\n",
        "        X = F.max_pool2d(X, 2, 2)\n",
        "        X = X.view(-1, 5*5*16)\n",
        "        X = F.relu(self.fc1(X))\n",
        "        X = F.relu(self.fc2(X))\n",
        "        X = self.fc3(X)\n",
        "        return F.log_softmax(X, dim=1)"
      ],
      "metadata": {
        "id": "mdPUHWPqK9ru"
      },
      "execution_count": 20,
      "outputs": []
    },
    {
      "cell_type": "code",
      "source": [
        "torch.manual_seed(42)\n",
        "model = ConvolutionalNetwork()\n",
        "model"
      ],
      "metadata": {
        "colab": {
          "base_uri": "https://localhost:8080/"
        },
        "id": "2A4NJcjsLGPR",
        "outputId": "cf45d671-07ee-49db-b57a-c487b52cccad"
      },
      "execution_count": 21,
      "outputs": [
        {
          "output_type": "execute_result",
          "data": {
            "text/plain": [
              "ConvolutionalNetwork(\n",
              "  (conv1): Conv2d(1, 6, kernel_size=(3, 3), stride=(1, 1))\n",
              "  (conv2): Conv2d(6, 16, kernel_size=(3, 3), stride=(1, 1))\n",
              "  (fc1): Linear(in_features=400, out_features=120, bias=True)\n",
              "  (fc2): Linear(in_features=120, out_features=84, bias=True)\n",
              "  (fc3): Linear(in_features=84, out_features=10, bias=True)\n",
              ")"
            ]
          },
          "metadata": {},
          "execution_count": 21
        }
      ]
    },
    {
      "cell_type": "markdown",
      "source": [
        "Define loss function & optimizer"
      ],
      "metadata": {
        "id": "vlKpUGepLQQV"
      }
    },
    {
      "cell_type": "code",
      "source": [
        "criterion = nn.CrossEntropyLoss()\n",
        "optimizer = torch.optim.Adam(model.parameters(), lr=0.001)"
      ],
      "metadata": {
        "id": "FW1SECc3LJko"
      },
      "execution_count": 22,
      "outputs": []
    },
    {
      "cell_type": "code",
      "source": [
        "import time\n",
        "import torch\n",
        "\n",
        "# Initialize variables\n",
        "start_time = time.time()\n",
        "epochs = 10.0  # Set epochs as a float\n",
        "train_losses = []\n",
        "test_losses = []\n",
        "train_correct = []\n",
        "test_correct = []\n",
        "\n",
        "# Early stopping parameters\n",
        "patience = 3  # Number of epochs to wait after last improvement\n",
        "best_loss = float('inf')  # Initialize the best loss\n",
        "patience_counter = 0  # Counter for patience\n",
        "\n",
        "# Main training loop\n",
        "for i in range(int(epochs)):\n",
        "    trn_corr = 0\n",
        "    tst_corr = 0\n",
        "\n",
        "    # Run the training batches\n",
        "    for b, (X_train, y_train) in enumerate(train_loader):\n",
        "        # Apply the model\n",
        "        y_pred = model(X_train)\n",
        "        loss = criterion(y_pred, y_train)\n",
        "\n",
        "        # Tally the number of correct predictions\n",
        "        predicted = torch.max(y_pred.data, 1)[1]\n",
        "        batch_corr = (predicted == y_train).sum()\n",
        "        trn_corr += batch_corr\n",
        "\n",
        "        # Update parameters\n",
        "        optimizer.zero_grad()\n",
        "        loss.backward()\n",
        "        optimizer.step()\n",
        "\n",
        "    # Track training loss and accuracy\n",
        "    train_losses.append(loss.item())\n",
        "    train_correct.append(trn_corr.item())\n",
        "\n",
        "    # Run the testing batches\n",
        "    with torch.no_grad():\n",
        "        for b, (X_test, y_test) in enumerate(test_loader):\n",
        "            # Apply the model\n",
        "            y_val = model(X_test)\n",
        "\n",
        "            # Tally the number of correct predictions\n",
        "            predicted = torch.max(y_val.data, 1)[1]\n",
        "            tst_corr += (predicted == y_test).sum()\n",
        "\n",
        "    # Calculate validation loss\n",
        "    val_loss = criterion(y_val, y_test)\n",
        "    test_losses.append(val_loss.item())\n",
        "    test_correct.append(tst_corr)\n",
        "\n",
        "    # Early stopping logic\n",
        "    if val_loss < best_loss:\n",
        "        best_loss = val_loss\n",
        "        patience_counter = 0  # Reset counter if we see improvement\n",
        "    else:\n",
        "        patience_counter += 1  # Increment counter if no improvement\n",
        "        if patience_counter >= patience:\n",
        "            print(f\"Stopping early at epoch {i+1} due to no improvement in validation loss.\")\n",
        "            break  # Stop training\n",
        "\n",
        "    # Print interim results\n",
        "    if (i + 1) % 1 == 0:  # Print every epoch\n",
        "        print(f'Epoch: {i+1}  Loss: {loss.item():10.8f}  \\\n",
        "Accuracy: {trn_corr.item()*100/len(train_loader.dataset):7.3f}%')\n",
        "\n",
        "print(f'\\nDuration: {time.time() - start_time:.0f} seconds')  # print the time elapsed\n"
      ],
      "metadata": {
        "colab": {
          "base_uri": "https://localhost:8080/"
        },
        "id": "97P1m1asLSaa",
        "outputId": "b6dd9b8b-b5a6-4e29-bb20-1b2aedf7b369"
      },
      "execution_count": 29,
      "outputs": [
        {
          "output_type": "stream",
          "name": "stdout",
          "text": [
            "Epoch: 1  Loss: 0.07475015  Accuracy:  92.558%\n",
            "Epoch: 2  Loss: 0.03728458  Accuracy:  92.705%\n",
            "Epoch: 3  Loss: 0.18312040  Accuracy:  92.828%\n",
            "Epoch: 4  Loss: 0.35905981  Accuracy:  93.128%\n",
            "Epoch: 5  Loss: 0.00370674  Accuracy:  93.253%\n",
            "Epoch: 6  Loss: 0.04391218  Accuracy:  93.533%\n",
            "Epoch: 7  Loss: 0.06269125  Accuracy:  93.552%\n",
            "Epoch: 8  Loss: 0.05730595  Accuracy:  93.755%\n",
            "Epoch: 9  Loss: 0.16534385  Accuracy:  93.967%\n",
            "Epoch: 10  Loss: 0.39764977  Accuracy:  94.037%\n",
            "\n",
            "Duration: 593 seconds\n"
          ]
        }
      ]
    },
    {
      "cell_type": "code",
      "source": [
        "plt.plot(train_losses, label='training loss')\n",
        "plt.plot(test_losses, label='validation loss')\n",
        "plt.title('Loss at the end of each epoch')\n",
        "plt.legend();"
      ],
      "metadata": {
        "colab": {
          "base_uri": "https://localhost:8080/",
          "height": 452
        },
        "id": "f1Pcbp6KLV4f",
        "outputId": "0ca9e6d0-a29a-49a9-f3c5-142a8fbaf9ae"
      },
      "execution_count": 30,
      "outputs": [
        {
          "output_type": "display_data",
          "data": {
            "text/plain": [
              "<Figure size 640x480 with 1 Axes>"
            ],
            "image/png": "[encoded data removed]"
          },
          "metadata": {}
        }
      ]
    },
    {
      "cell_type": "markdown",
      "source": [
        "**Evaluate Test Data**"
      ],
      "metadata": {
        "id": "8o5Pf4oBMGqi"
      }
    },
    {
      "cell_type": "code",
      "source": [
        "test_load_all = DataLoader(test_data, batch_size=10000, shuffle=False)"
      ],
      "metadata": {
        "id": "nlOa5hOYLbjL"
      },
      "execution_count": 31,
      "outputs": []
    },
    {
      "cell_type": "code",
      "source": [
        "with torch.no_grad():\n",
        "    correct = 0\n",
        "    for X_test, y_test in test_load_all:\n",
        "        y_val = model(X_test)  # we don't flatten the data this time\n",
        "        predicted = torch.max(y_val,1)[1]\n",
        "        correct += (predicted == y_test).sum()\n",
        "print(f'Test accuracy: {correct.item()}/{len(test_data)} = {correct.item()*100/(len(test_data)):7.3f}%')"
      ],
      "metadata": {
        "colab": {
          "base_uri": "https://localhost:8080/"
        },
        "id": "btV2odJsM8kS",
        "outputId": "a0c6d0b4-3cc2-45d7-a22a-b703244d1142"
      },
      "execution_count": 32,
      "outputs": [
        {
          "output_type": "stream",
          "name": "stdout",
          "text": [
            "Test accuracy: 8891/10000 =  88.910%\n"
          ]
        }
      ]
    },
    {
      "cell_type": "markdown",
      "source": [
        "confusion matrix"
      ],
      "metadata": {
        "id": "DpCZeaZ5NBim"
      }
    },
    {
      "cell_type": "code",
      "source": [
        "# print a row of values for reference\n",
        "np.set_printoptions(formatter=dict(int=lambda x: f'{x:4}'))\n",
        "print(np.arange(10).reshape(1,10))\n",
        "print()\n",
        "\n",
        "# print the confusion matrix\n",
        "print(confusion_matrix(predicted.view(-1), y_test.view(-1)))"
      ],
      "metadata": {
        "colab": {
          "base_uri": "https://localhost:8080/"
        },
        "id": "bXsqzJQBM80V",
        "outputId": "80071c63-c174-4b88-9fc9-60ae5b025496"
      },
      "execution_count": 33,
      "outputs": [
        {
          "output_type": "stream",
          "name": "stdout",
          "text": [
            "[[   0    1    2    3    4    5    6    7    8    9]]\n",
            "\n",
            "[[ 882    6   16   16    4    1  177    0    2    0]\n",
            " [   1  964    0    2    1    0    0    0    0    0]\n",
            " [  30    1  872   15   70    0  107    0    6    0]\n",
            " [  28   22   11  897   25    0   25    0    2    0]\n",
            " [   4    3   50   50  855    0  103    0    2    0]\n",
            " [   2    0    0    0    0  974    0   30    1    4]\n",
            " [  43    2   48   17   42    0  567    0    3    1]\n",
            " [   0    0    0    0    0   13    0  952    4   45]\n",
            " [   9    2    3    3    3    0   21    1  978    0]\n",
            " [   1    0    0    0    0   12    0   17    2  950]]\n"
          ]
        }
      ]
    },
    {
      "cell_type": "code",
      "source": [],
      "metadata": {
        "id": "w7rcphvSNDw3"
      },
      "execution_count": null,
      "outputs": []
    }
  ]
}