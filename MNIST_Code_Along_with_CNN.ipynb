{
  "nbformat": 4,
  "nbformat_minor": 0,
  "metadata": {
    "colab": {
      "provenance": [],
      "authorship_tag": "ABX9TyNybv12h9PJL8wY5phLiKhk",
      "include_colab_link": true
    },
    "kernelspec": {
      "name": "python3",
      "display_name": "Python 3"
    },
    "language_info": {
      "name": "python"
    }
  },
  "cells": [
    {
      "cell_type": "markdown",
      "metadata": {
        "id": "view-in-github",
        "colab_type": "text"
      },
      "source": [
        "<a href=\"https://colab.research.google.com/github/Ali-mohammadi-design/PyTorch_for_medical_images/blob/main/MNIST_Code_Along_with_CNN.ipynb\" target=\"_parent\"><img src=\"https://colab.research.google.com/assets/colab-badge.svg\" alt=\"Open In Colab\"/></a>"
      ]
    },
    {
      "cell_type": "code",
      "execution_count": 1,
      "metadata": {
        "id": "yWjtOs18KOIj"
      },
      "outputs": [],
      "source": [
        "import torch\n",
        "import torch.nn as nn\n",
        "import torch.nn.functional as F\n",
        "from torch.utils.data import DataLoader\n",
        "from torchvision import datasets, transforms\n",
        "from torchvision.utils import make_grid\n",
        "\n",
        "import numpy as np\n",
        "import pandas as pd\n",
        "from sklearn.metrics import confusion_matrix\n",
        "import matplotlib.pyplot as plt\n",
        "%matplotlib inline"
      ]
    },
    {
      "cell_type": "markdown",
      "source": [
        "Load the MNIST dataset"
      ],
      "metadata": {
        "id": "TsKLPdQOKXJW"
      }
    },
    {
      "cell_type": "code",
      "source": [
        "transform = transforms.ToTensor()\n",
        "\n",
        "train_data = datasets.MNIST(root='../Data', train=True, download=True, transform=transform)\n",
        "test_data = datasets.MNIST(root='../Data', train=False, download=True, transform=transform)"
      ],
      "metadata": {
        "colab": {
          "base_uri": "https://localhost:8080/"
        },
        "id": "f4v3xMMYKTqz",
        "outputId": "1901e0db-47de-4d0c-bb48-7b4c81ca052f"
      },
      "execution_count": 2,
      "outputs": [
        {
          "output_type": "stream",
          "name": "stdout",
          "text": [
            "Downloading http://yann.lecun.com/exdb/mnist/train-images-idx3-ubyte.gz\n",
            "Failed to download (trying next):\n",
            "<urlopen error [SSL: CERTIFICATE_VERIFY_FAILED] certificate verify failed: certificate has expired (_ssl.c:1007)>\n",
            "\n",
            "Downloading https://ossci-datasets.s3.amazonaws.com/mnist/train-images-idx3-ubyte.gz\n",
            "Downloading https://ossci-datasets.s3.amazonaws.com/mnist/train-images-idx3-ubyte.gz to ../Data/MNIST/raw/train-images-idx3-ubyte.gz\n"
          ]
        },
        {
          "output_type": "stream",
          "name": "stderr",
          "text": [
            "100%|██████████| 9912422/9912422 [00:00<00:00, 16317542.48it/s]\n"
          ]
        },
        {
          "output_type": "stream",
          "name": "stdout",
          "text": [
            "Extracting ../Data/MNIST/raw/train-images-idx3-ubyte.gz to ../Data/MNIST/raw\n",
            "\n",
            "Downloading http://yann.lecun.com/exdb/mnist/train-labels-idx1-ubyte.gz\n",
            "Failed to download (trying next):\n",
            "<urlopen error [SSL: CERTIFICATE_VERIFY_FAILED] certificate verify failed: certificate has expired (_ssl.c:1007)>\n",
            "\n",
            "Downloading https://ossci-datasets.s3.amazonaws.com/mnist/train-labels-idx1-ubyte.gz\n",
            "Downloading https://ossci-datasets.s3.amazonaws.com/mnist/train-labels-idx1-ubyte.gz to ../Data/MNIST/raw/train-labels-idx1-ubyte.gz\n"
          ]
        },
        {
          "output_type": "stream",
          "name": "stderr",
          "text": [
            "100%|██████████| 28881/28881 [00:00<00:00, 491424.69it/s]\n"
          ]
        },
        {
          "output_type": "stream",
          "name": "stdout",
          "text": [
            "Extracting ../Data/MNIST/raw/train-labels-idx1-ubyte.gz to ../Data/MNIST/raw\n",
            "\n",
            "Downloading http://yann.lecun.com/exdb/mnist/t10k-images-idx3-ubyte.gz\n",
            "Failed to download (trying next):\n",
            "<urlopen error [SSL: CERTIFICATE_VERIFY_FAILED] certificate verify failed: certificate has expired (_ssl.c:1007)>\n",
            "\n",
            "Downloading https://ossci-datasets.s3.amazonaws.com/mnist/t10k-images-idx3-ubyte.gz\n",
            "Downloading https://ossci-datasets.s3.amazonaws.com/mnist/t10k-images-idx3-ubyte.gz to ../Data/MNIST/raw/t10k-images-idx3-ubyte.gz\n"
          ]
        },
        {
          "output_type": "stream",
          "name": "stderr",
          "text": [
            "100%|██████████| 1648877/1648877 [00:00<00:00, 4463843.91it/s]\n"
          ]
        },
        {
          "output_type": "stream",
          "name": "stdout",
          "text": [
            "Extracting ../Data/MNIST/raw/t10k-images-idx3-ubyte.gz to ../Data/MNIST/raw\n",
            "\n",
            "Downloading http://yann.lecun.com/exdb/mnist/t10k-labels-idx1-ubyte.gz\n",
            "Failed to download (trying next):\n",
            "<urlopen error [SSL: CERTIFICATE_VERIFY_FAILED] certificate verify failed: certificate has expired (_ssl.c:1007)>\n",
            "\n",
            "Downloading https://ossci-datasets.s3.amazonaws.com/mnist/t10k-labels-idx1-ubyte.gz\n",
            "Downloading https://ossci-datasets.s3.amazonaws.com/mnist/t10k-labels-idx1-ubyte.gz to ../Data/MNIST/raw/t10k-labels-idx1-ubyte.gz\n"
          ]
        },
        {
          "output_type": "stream",
          "name": "stderr",
          "text": [
            "100%|██████████| 4542/4542 [00:00<00:00, 2279589.42it/s]"
          ]
        },
        {
          "output_type": "stream",
          "name": "stdout",
          "text": [
            "Extracting ../Data/MNIST/raw/t10k-labels-idx1-ubyte.gz to ../Data/MNIST/raw\n",
            "\n"
          ]
        },
        {
          "output_type": "stream",
          "name": "stderr",
          "text": [
            "\n"
          ]
        }
      ]
    },
    {
      "cell_type": "markdown",
      "source": [
        "**Create loaders**\n",
        "\n",
        "When working with images, we want relatively small batches; a batch size of 4 is not uncommon."
      ],
      "metadata": {
        "id": "idFA9F8xKf2X"
      }
    },
    {
      "cell_type": "code",
      "source": [
        "train_loader = DataLoader(train_data, batch_size=10, shuffle=True)\n",
        "test_loader = DataLoader(test_data, batch_size=10, shuffle=False)"
      ],
      "metadata": {
        "id": "wpEUm3_EKZnx"
      },
      "execution_count": 3,
      "outputs": []
    },
    {
      "cell_type": "code",
      "source": [
        "# Define layers\n",
        "conv1 = nn.Conv2d(1, 6, 3, 1)\n",
        "conv2 = nn.Conv2d(6, 16, 3, 1)"
      ],
      "metadata": {
        "id": "JHU0lFU2KmVk"
      },
      "execution_count": 4,
      "outputs": []
    },
    {
      "cell_type": "code",
      "source": [
        "# Grab the first MNIST record\n",
        "for i, (X_train, y_train) in enumerate(train_data):\n",
        "    break"
      ],
      "metadata": {
        "id": "zg1vVwaCKsKh"
      },
      "execution_count": 5,
      "outputs": []
    },
    {
      "cell_type": "code",
      "source": [
        "x = X_train.view(1,1,28,28)\n",
        "print(x.shape)"
      ],
      "metadata": {
        "colab": {
          "base_uri": "https://localhost:8080/"
        },
        "id": "R5h68TDEKt-f",
        "outputId": "009e6455-cfef-4ab8-b84e-8260add1f54d"
      },
      "execution_count": 6,
      "outputs": [
        {
          "output_type": "stream",
          "name": "stdout",
          "text": [
            "torch.Size([1, 1, 28, 28])\n"
          ]
        }
      ]
    },
    {
      "cell_type": "code",
      "source": [
        "# Perform the first convolution/activation\n",
        "x = F.relu(conv1(x))\n",
        "print(x.shape)"
      ],
      "metadata": {
        "colab": {
          "base_uri": "https://localhost:8080/"
        },
        "id": "dKKEPm5QKwLJ",
        "outputId": "fc7de331-6cfd-44bc-df5b-b2621be94dd4"
      },
      "execution_count": 7,
      "outputs": [
        {
          "output_type": "stream",
          "name": "stdout",
          "text": [
            "torch.Size([1, 6, 26, 26])\n"
          ]
        }
      ]
    },
    {
      "cell_type": "code",
      "source": [
        "# Run the first pooling layer\n",
        "x = F.max_pool2d(x, 2, 2)\n",
        "print(x.shape)"
      ],
      "metadata": {
        "colab": {
          "base_uri": "https://localhost:8080/"
        },
        "id": "kR6tz2VaK0AA",
        "outputId": "05ea21c9-19f4-471c-95af-304af340a33c"
      },
      "execution_count": 8,
      "outputs": [
        {
          "output_type": "stream",
          "name": "stdout",
          "text": [
            "torch.Size([1, 6, 13, 13])\n"
          ]
        }
      ]
    },
    {
      "cell_type": "code",
      "source": [
        "# Perform the second convolution/activation\n",
        "x = F.relu(conv2(x))\n",
        "print(x.shape)"
      ],
      "metadata": {
        "colab": {
          "base_uri": "https://localhost:8080/"
        },
        "id": "dPPDcK3dK1xC",
        "outputId": "9104e9c2-5eda-4383-8057-5f7629b991bd"
      },
      "execution_count": 9,
      "outputs": [
        {
          "output_type": "stream",
          "name": "stdout",
          "text": [
            "torch.Size([1, 16, 11, 11])\n"
          ]
        }
      ]
    },
    {
      "cell_type": "code",
      "source": [
        "# Run the second pooling layer\n",
        "x = F.max_pool2d(x, 2, 2)\n",
        "print(x.shape)"
      ],
      "metadata": {
        "colab": {
          "base_uri": "https://localhost:8080/"
        },
        "id": "n47kRMoOK3ZZ",
        "outputId": "3d628a7a-f89b-4ad3-a4c3-703ab6bec68b"
      },
      "execution_count": 10,
      "outputs": [
        {
          "output_type": "stream",
          "name": "stdout",
          "text": [
            "torch.Size([1, 16, 5, 5])\n"
          ]
        }
      ]
    },
    {
      "cell_type": "code",
      "source": [
        "# Flatten the data\n",
        "x = x.view(-1, 5*5*16)\n",
        "print(x.shape)"
      ],
      "metadata": {
        "colab": {
          "base_uri": "https://localhost:8080/"
        },
        "id": "xFcsQNjiK70K",
        "outputId": "e563fe14-bdb2-4c82-f929-bb2e3a180854"
      },
      "execution_count": 11,
      "outputs": [
        {
          "output_type": "stream",
          "name": "stdout",
          "text": [
            "torch.Size([1, 400])\n"
          ]
        }
      ]
    },
    {
      "cell_type": "markdown",
      "source": [
        "**This is how the convolution output is passed into the fully connected layers.**\n",
        "\n",
        "\n",
        "Now let's run the code."
      ],
      "metadata": {
        "id": "ovYGI35xLA4n"
      }
    },
    {
      "cell_type": "code",
      "source": [
        "class ConvolutionalNetwork(nn.Module):\n",
        "    def __init__(self):\n",
        "        super().__init__()\n",
        "        self.conv1 = nn.Conv2d(1, 6, 3, 1)\n",
        "        self.conv2 = nn.Conv2d(6, 16, 3, 1)\n",
        "        self.fc1 = nn.Linear(5*5*16, 120)\n",
        "        self.fc2 = nn.Linear(120, 84)\n",
        "        self.fc3 = nn.Linear(84,10)\n",
        "\n",
        "    def forward(self, X):\n",
        "        X = F.relu(self.conv1(X))\n",
        "        X = F.max_pool2d(X, 2, 2)\n",
        "        X = F.relu(self.conv2(X))\n",
        "        X = F.max_pool2d(X, 2, 2)\n",
        "        X = X.view(-1, 5*5*16)\n",
        "        X = F.relu(self.fc1(X))\n",
        "        X = F.relu(self.fc2(X))\n",
        "        X = self.fc3(X)\n",
        "        return F.log_softmax(X, dim=1)"
      ],
      "metadata": {
        "id": "mdPUHWPqK9ru"
      },
      "execution_count": 12,
      "outputs": []
    },
    {
      "cell_type": "code",
      "source": [
        "torch.manual_seed(42)\n",
        "model = ConvolutionalNetwork()\n",
        "model"
      ],
      "metadata": {
        "colab": {
          "base_uri": "https://localhost:8080/"
        },
        "id": "2A4NJcjsLGPR",
        "outputId": "39023c88-07be-4dc2-8d8f-e72477589129"
      },
      "execution_count": 13,
      "outputs": [
        {
          "output_type": "execute_result",
          "data": {
            "text/plain": [
              "ConvolutionalNetwork(\n",
              "  (conv1): Conv2d(1, 6, kernel_size=(3, 3), stride=(1, 1))\n",
              "  (conv2): Conv2d(6, 16, kernel_size=(3, 3), stride=(1, 1))\n",
              "  (fc1): Linear(in_features=400, out_features=120, bias=True)\n",
              "  (fc2): Linear(in_features=120, out_features=84, bias=True)\n",
              "  (fc3): Linear(in_features=84, out_features=10, bias=True)\n",
              ")"
            ]
          },
          "metadata": {},
          "execution_count": 13
        }
      ]
    },
    {
      "cell_type": "markdown",
      "source": [
        "Define loss function & optimizer"
      ],
      "metadata": {
        "id": "vlKpUGepLQQV"
      }
    },
    {
      "cell_type": "code",
      "source": [
        "criterion = nn.CrossEntropyLoss()\n",
        "optimizer = torch.optim.Adam(model.parameters(), lr=0.001)"
      ],
      "metadata": {
        "id": "FW1SECc3LJko"
      },
      "execution_count": 14,
      "outputs": []
    },
    {
      "cell_type": "code",
      "source": [
        "import time\n",
        "start_time = time.time()\n",
        "\n",
        "epochs = 5\n",
        "train_losses = []\n",
        "test_losses = []\n",
        "train_correct = []\n",
        "test_correct = []\n",
        "\n",
        "for i in range(epochs):\n",
        "    trn_corr = 0\n",
        "    tst_corr = 0\n",
        "\n",
        "    # Run the training batches\n",
        "    for b, (X_train, y_train) in enumerate(train_loader):\n",
        "        b+=1\n",
        "\n",
        "        # Apply the model\n",
        "        y_pred = model(X_train)  # we don't flatten X-train here\n",
        "        loss = criterion(y_pred, y_train)\n",
        "\n",
        "        # Tally the number of correct predictions\n",
        "        predicted = torch.max(y_pred.data, 1)[1]\n",
        "        batch_corr = (predicted == y_train).sum()\n",
        "        trn_corr += batch_corr\n",
        "\n",
        "        # Update parameters\n",
        "        optimizer.zero_grad()\n",
        "        loss.backward()\n",
        "        optimizer.step()\n",
        "\n",
        "        # Print interim results\n",
        "        if b%600 == 0:\n",
        "            print(f'epoch: {i:2}  batch: {b:4} [{10*b:6}/60000]  loss: {loss.item():10.8f}  \\\n",
        "accuracy: {trn_corr.item()*100/(10*b):7.3f}%')\n",
        "\n",
        "    train_losses.append(loss.item())\n",
        "    train_correct.append(trn_corr.item())\n",
        "\n",
        "    # Run the testing batches\n",
        "    with torch.no_grad():\n",
        "        for b, (X_test, y_test) in enumerate(test_loader):\n",
        "\n",
        "            # Apply the model\n",
        "            y_val = model(X_test)\n",
        "\n",
        "            # Tally the number of correct predictions\n",
        "            predicted = torch.max(y_val.data, 1)[1]\n",
        "            tst_corr += (predicted == y_test).sum()\n",
        "\n",
        "    loss = criterion(y_val, y_test)\n",
        "    test_losses.append(loss)\n",
        "    test_correct.append(tst_corr)\n",
        "\n",
        "print(f'\\nDuration: {time.time() - start_time:.0f} seconds') # print the time elapsed"
      ],
      "metadata": {
        "colab": {
          "base_uri": "https://localhost:8080/"
        },
        "id": "97P1m1asLSaa",
        "outputId": "64375f06-5b89-41ed-e134-5673ed4de665"
      },
      "execution_count": 15,
      "outputs": [
        {
          "output_type": "stream",
          "name": "stdout",
          "text": [
            "epoch:  0  batch:  600 [  6000/60000]  loss: 0.04055627  accuracy:  78.417%\n",
            "epoch:  0  batch: 1200 [ 12000/60000]  loss: 0.08253475  accuracy:  85.800%\n",
            "epoch:  0  batch: 1800 [ 18000/60000]  loss: 0.36470491  accuracy:  88.689%\n",
            "epoch:  0  batch: 2400 [ 24000/60000]  loss: 0.01825025  accuracy:  90.525%\n",
            "epoch:  0  batch: 3000 [ 30000/60000]  loss: 0.00806704  accuracy:  91.650%\n",
            "epoch:  0  batch: 3600 [ 36000/60000]  loss: 0.00116694  accuracy:  92.503%\n",
            "epoch:  0  batch: 4200 [ 42000/60000]  loss: 0.52552539  accuracy:  93.152%\n",
            "epoch:  0  batch: 4800 [ 48000/60000]  loss: 0.03260820  accuracy:  93.617%\n",
            "epoch:  0  batch: 5400 [ 54000/60000]  loss: 0.00746816  accuracy:  94.028%\n",
            "epoch:  0  batch: 6000 [ 60000/60000]  loss: 0.03889676  accuracy:  94.340%\n",
            "epoch:  1  batch:  600 [  6000/60000]  loss: 0.03282820  accuracy:  97.817%\n",
            "epoch:  1  batch: 1200 [ 12000/60000]  loss: 0.04554177  accuracy:  97.867%\n",
            "epoch:  1  batch: 1800 [ 18000/60000]  loss: 0.00578480  accuracy:  97.939%\n",
            "epoch:  1  batch: 2400 [ 24000/60000]  loss: 0.02235614  accuracy:  97.879%\n",
            "epoch:  1  batch: 3000 [ 30000/60000]  loss: 0.21643038  accuracy:  97.897%\n",
            "epoch:  1  batch: 3600 [ 36000/60000]  loss: 0.00501452  accuracy:  97.906%\n",
            "epoch:  1  batch: 4200 [ 42000/60000]  loss: 0.00045869  accuracy:  97.974%\n",
            "epoch:  1  batch: 4800 [ 48000/60000]  loss: 0.00192951  accuracy:  97.996%\n",
            "epoch:  1  batch: 5400 [ 54000/60000]  loss: 0.00085962  accuracy:  98.004%\n",
            "epoch:  1  batch: 6000 [ 60000/60000]  loss: 0.08304359  accuracy:  98.007%\n",
            "epoch:  2  batch:  600 [  6000/60000]  loss: 0.00063734  accuracy:  98.683%\n",
            "epoch:  2  batch: 1200 [ 12000/60000]  loss: 0.00153934  accuracy:  98.542%\n",
            "epoch:  2  batch: 1800 [ 18000/60000]  loss: 0.00128017  accuracy:  98.478%\n",
            "epoch:  2  batch: 2400 [ 24000/60000]  loss: 0.00139678  accuracy:  98.533%\n",
            "epoch:  2  batch: 3000 [ 30000/60000]  loss: 0.30444741  accuracy:  98.467%\n",
            "epoch:  2  batch: 3600 [ 36000/60000]  loss: 0.01445190  accuracy:  98.461%\n",
            "epoch:  2  batch: 4200 [ 42000/60000]  loss: 0.02198282  accuracy:  98.483%\n",
            "epoch:  2  batch: 4800 [ 48000/60000]  loss: 0.00078029  accuracy:  98.496%\n",
            "epoch:  2  batch: 5400 [ 54000/60000]  loss: 0.00168332  accuracy:  98.498%\n",
            "epoch:  2  batch: 6000 [ 60000/60000]  loss: 0.00020764  accuracy:  98.492%\n",
            "epoch:  3  batch:  600 [  6000/60000]  loss: 0.00079474  accuracy:  98.883%\n",
            "epoch:  3  batch: 1200 [ 12000/60000]  loss: 0.00203867  accuracy:  99.017%\n",
            "epoch:  3  batch: 1800 [ 18000/60000]  loss: 0.00046899  accuracy:  99.028%\n",
            "epoch:  3  batch: 2400 [ 24000/60000]  loss: 0.00021816  accuracy:  98.938%\n",
            "epoch:  3  batch: 3000 [ 30000/60000]  loss: 0.03142365  accuracy:  98.933%\n",
            "epoch:  3  batch: 3600 [ 36000/60000]  loss: 0.00734946  accuracy:  98.875%\n",
            "epoch:  3  batch: 4200 [ 42000/60000]  loss: 0.00061036  accuracy:  98.893%\n",
            "epoch:  3  batch: 4800 [ 48000/60000]  loss: 0.13828447  accuracy:  98.902%\n",
            "epoch:  3  batch: 5400 [ 54000/60000]  loss: 0.00074584  accuracy:  98.898%\n",
            "epoch:  3  batch: 6000 [ 60000/60000]  loss: 0.02092968  accuracy:  98.897%\n",
            "epoch:  4  batch:  600 [  6000/60000]  loss: 0.00093785  accuracy:  99.250%\n",
            "epoch:  4  batch: 1200 [ 12000/60000]  loss: 0.19402172  accuracy:  99.158%\n",
            "epoch:  4  batch: 1800 [ 18000/60000]  loss: 0.00067582  accuracy:  99.067%\n",
            "epoch:  4  batch: 2400 [ 24000/60000]  loss: 0.00019682  accuracy:  99.067%\n",
            "epoch:  4  batch: 3000 [ 30000/60000]  loss: 0.00540381  accuracy:  99.033%\n",
            "epoch:  4  batch: 3600 [ 36000/60000]  loss: 0.00058351  accuracy:  99.056%\n",
            "epoch:  4  batch: 4200 [ 42000/60000]  loss: 0.00117376  accuracy:  99.069%\n",
            "epoch:  4  batch: 4800 [ 48000/60000]  loss: 0.00185656  accuracy:  99.017%\n",
            "epoch:  4  batch: 5400 [ 54000/60000]  loss: 0.00024844  accuracy:  98.993%\n",
            "epoch:  4  batch: 6000 [ 60000/60000]  loss: 0.00652279  accuracy:  99.002%\n",
            "\n",
            "Duration: 227 seconds\n"
          ]
        }
      ]
    },
    {
      "cell_type": "code",
      "source": [
        "plt.plot(train_losses, label='training loss')\n",
        "plt.plot(test_losses, label='validation loss')\n",
        "plt.title('Loss at the end of each epoch')\n",
        "plt.legend();"
      ],
      "metadata": {
        "colab": {
          "base_uri": "https://localhost:8080/",
          "height": 452
        },
        "id": "f1Pcbp6KLV4f",
        "outputId": "f3bd7ea6-9d71-467b-fe66-e1a62a19e8e1"
      },
      "execution_count": 16,
      "outputs": [
        {
          "output_type": "display_data",
          "data": {
            "text/plain": [
              "<Figure size 640x480 with 1 Axes>"
            ],
            "image/png": "[encoded data removed]"
          },
          "metadata": {}
        }
      ]
    },
    {
      "cell_type": "markdown",
      "source": [
        "**Evaluate Test Data**"
      ],
      "metadata": {
        "id": "8o5Pf4oBMGqi"
      }
    },
    {
      "cell_type": "code",
      "source": [
        "test_load_all = DataLoader(test_data, batch_size=10000, shuffle=False)"
      ],
      "metadata": {
        "id": "nlOa5hOYLbjL"
      },
      "execution_count": 18,
      "outputs": []
    },
    {
      "cell_type": "code",
      "source": [
        "with torch.no_grad():\n",
        "    correct = 0\n",
        "    for X_test, y_test in test_load_all:\n",
        "        y_val = model(X_test)  # we don't flatten the data this time\n",
        "        predicted = torch.max(y_val,1)[1]\n",
        "        correct += (predicted == y_test).sum()\n",
        "print(f'Test accuracy: {correct.item()}/{len(test_data)} = {correct.item()*100/(len(test_data)):7.3f}%')"
      ],
      "metadata": {
        "colab": {
          "base_uri": "https://localhost:8080/"
        },
        "id": "btV2odJsM8kS",
        "outputId": "0132afba-3e5a-4aa4-8256-9df6a97a1b12"
      },
      "execution_count": 19,
      "outputs": [
        {
          "output_type": "stream",
          "name": "stdout",
          "text": [
            "Test accuracy: 9889/10000 =  98.890%\n"
          ]
        }
      ]
    },
    {
      "cell_type": "markdown",
      "source": [
        "confusion matrix"
      ],
      "metadata": {
        "id": "DpCZeaZ5NBim"
      }
    },
    {
      "cell_type": "code",
      "source": [
        "# print a row of values for reference\n",
        "np.set_printoptions(formatter=dict(int=lambda x: f'{x:4}'))\n",
        "print(np.arange(10).reshape(1,10))\n",
        "print()\n",
        "\n",
        "# print the confusion matrix\n",
        "print(confusion_matrix(predicted.view(-1), y_test.view(-1)))"
      ],
      "metadata": {
        "colab": {
          "base_uri": "https://localhost:8080/"
        },
        "id": "bXsqzJQBM80V",
        "outputId": "b7897806-7d8a-456d-fd89-7fd2425cbbef"
      },
      "execution_count": 20,
      "outputs": [
        {
          "output_type": "stream",
          "name": "stdout",
          "text": [
            "[[   0    1    2    3    4    5    6    7    8    9]]\n",
            "\n",
            "[[ 977    3    1    0    0    2    4    1    4    0]\n",
            " [   0 1130    2    0    0    0    1    4    0    3]\n",
            " [   0    1 1022    0    0    0    0    4    2    0]\n",
            " [   0    0    3 1007    0    7    0    2    2    2]\n",
            " [   0    0    1    0  971    0    1    0    0    5]\n",
            " [   0    0    0    1    0  879    7    0    1    5]\n",
            " [   1    1    0    0    4    2  944    0    1    0]\n",
            " [   1    0    3    0    0    0    0 1013    1    2]\n",
            " [   1    0    0    2    1    1    1    1  962    8]\n",
            " [   0    0    0    0    6    1    0    3    1  984]]\n"
          ]
        }
      ]
    },
    {
      "cell_type": "code",
      "source": [],
      "metadata": {
        "id": "w7rcphvSNDw3"
      },
      "execution_count": null,
      "outputs": []
    }
  ]
}